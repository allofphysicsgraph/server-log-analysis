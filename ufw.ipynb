{
 "cells": [
  {
   "cell_type": "markdown",
   "metadata": {},
   "source": [
    "# analysis of /var/log/ufw.log \n",
    "\n",
    "data collected April 6, 2020 to April 25, 2020 on a DigitalOcean droplet running Ubuntu 18.04\n",
    "\n"
   ]
  },
  {
   "cell_type": "code",
   "execution_count": null,
   "metadata": {},
   "outputs": [],
   "source": []
  },
  {
   "cell_type": "code",
   "execution_count": 1,
   "metadata": {},
   "outputs": [],
   "source": [
    "import pandas\n",
    "import re # https://docs.python.org/3/library/re.html\n",
    "from collections import Counter\n",
    "import ipaddress # https://docs.python.org/3/library/ipaddress.html\n",
    "import time\n",
    "import sys"
   ]
  },
  {
   "cell_type": "code",
   "execution_count": 2,
   "metadata": {},
   "outputs": [],
   "source": [
    "with open('ufw.log') as f:\n",
    "    lines = f.readlines()"
   ]
  },
  {
   "cell_type": "code",
   "execution_count": 5,
   "metadata": {},
   "outputs": [
    {
     "data": {
      "text/plain": [
       "9517"
      ]
     },
     "execution_count": 5,
     "metadata": {},
     "output_type": "execute_result"
    }
   ],
   "source": [
    "len(lines)"
   ]
  },
  {
   "cell_type": "code",
   "execution_count": 3,
   "metadata": {},
   "outputs": [
    {
     "data": {
      "text/plain": [
       "'Apr  6 18:58:09 django-s-1vcpu-1gb-sfo2-01 kernel: [   21.950901] [UFW BLOCK] IN=eth0 OUT= MAC=42:27:1c:b8:86:9e:30:7c:5e:91:9c:30:08:00 SRC=104.155.153.206 DST=138.68.10.91 LEN=48 TOS=0x00 PREC=0x00 TTL=120 ID=2506 DF PROTO=TCP SPT=51695 DPT=3128 WINDOW=8192 RES=0x00 SYN URGP=0 \\n'"
      ]
     },
     "execution_count": 3,
     "metadata": {},
     "output_type": "execute_result"
    }
   ],
   "source": [
    "lines[0]"
   ]
  },
  {
   "cell_type": "markdown",
   "metadata": {},
   "source": [
    "## convert list of lines into a list of dicts suitable for a Pandas dataframe"
   ]
  },
  {
   "cell_type": "code",
   "execution_count": 48,
   "metadata": {},
   "outputs": [],
   "source": [
    "list_of_dicts = []\n",
    "for indx, line in enumerate(lines):\n",
    "    line_as_dict = {}\n",
    "\n",
    "    line = line.replace('\\x00','') # there was a bad character on `lines[6615]`\n",
    "\n",
    "    line_as_dict['date time'] = line[0:15]\n",
    "    line_as_list = line[16:].strip().split(' ')\n",
    "    \n",
    "    while(\"\" in line_as_list): \n",
    "        line_as_list.remove(\"\") \n",
    "\n",
    "    line_as_dict['server name'] = line_as_list[0].strip()\n",
    "    line_as_dict['service name'] = line_as_list[1].replace(':','')\n",
    "    if line_as_list[2]=='[':\n",
    "        line_as_dict['elapsed time'] = line_as_list[3].replace(']','')\n",
    "        line_as_dict['message'] = ' '.join(line_as_list[4:])\n",
    "    else:\n",
    "        line_as_dict['elapsed time'] = line_as_list[2].replace('[','').replace(']','')\n",
    "        line_as_dict['message'] = ' '.join(line_as_list[3:])\n",
    "    if '[UFW BLOCK]' in line_as_dict['message']:\n",
    "        line_as_dict['msg type'] = '[UFW BLOCK]'\n",
    "    elif '[UFW LIMIT BLOCK]' in line_as_dict['message']:\n",
    "        line_as_dict['msg type'] = '[UFW LIMIT BLOCK]'\n",
    "    else:\n",
    "        print('unmatched msg type detected:',line_as_dict['message'])\n",
    "    if ' IN=' in line_as_dict['message']:\n",
    "        for entry in line_as_dict['message'].split(' '):\n",
    "            if 'IN=' in entry:\n",
    "                line_as_dict['IN'] = entry.replace('IN=','')\n",
    "            if 'MAC=' in entry:\n",
    "                line_as_dict['MAC'] = entry.replace('MAC=','')\n",
    "            if 'SRC=' in entry:\n",
    "                line_as_dict['SRC'] = entry.replace('SRC=','')\n",
    "            if 'DST=' in entry:\n",
    "                line_as_dict['DST'] = entry.replace('DST=','')\n",
    "                \n",
    "    list_of_dicts.append(line_as_dict)"
   ]
  },
  {
   "cell_type": "code",
   "execution_count": 49,
   "metadata": {},
   "outputs": [
    {
     "data": {
      "text/plain": [
       "(9517, 10)"
      ]
     },
     "execution_count": 49,
     "metadata": {},
     "output_type": "execute_result"
    }
   ],
   "source": [
    "df = pandas.DataFrame(list_of_dicts)\n",
    "df.shape"
   ]
  },
  {
   "cell_type": "code",
   "execution_count": 50,
   "metadata": {},
   "outputs": [],
   "source": [
    "# https://strftime.org/\n",
    "df['datetime'] = pandas.to_datetime('2020 ' + df['date time'], format='%Y %b %d %H:%M:%S')\n",
    "# https://pandas.pydata.org/pandas-docs/stable/reference/api/pandas.DataFrame.drop.html\n",
    "df.drop('date time', inplace=True, axis=1)"
   ]
  },
  {
   "cell_type": "code",
   "execution_count": 51,
   "metadata": {},
   "outputs": [
    {
     "data": {
      "text/plain": [
       "'[UFW BLOCK] IN=eth0 OUT= MAC=42:27:1c:b8:86:9e:30:7c:5e:91:9c:30:08:00 SRC=104.155.153.206 DST=138.68.10.91 LEN=48 TOS=0x00 PREC=0x00 TTL=120 ID=2506 DF PROTO=TCP SPT=51695 DPT=3128 WINDOW=8192 RES=0x00 SYN URGP=0'"
      ]
     },
     "execution_count": 51,
     "metadata": {},
     "output_type": "execute_result"
    }
   ],
   "source": [
    "df['message'][0]"
   ]
  },
  {
   "cell_type": "code",
   "execution_count": 52,
   "metadata": {},
   "outputs": [
    {
     "data": {
      "text/html": [
       "<div>\n",
       "<style scoped>\n",
       "    .dataframe tbody tr th:only-of-type {\n",
       "        vertical-align: middle;\n",
       "    }\n",
       "\n",
       "    .dataframe tbody tr th {\n",
       "        vertical-align: top;\n",
       "    }\n",
       "\n",
       "    .dataframe thead th {\n",
       "        text-align: right;\n",
       "    }\n",
       "</style>\n",
       "<table border=\"1\" class=\"dataframe\">\n",
       "  <thead>\n",
       "    <tr style=\"text-align: right;\">\n",
       "      <th></th>\n",
       "      <th>DST</th>\n",
       "      <th>IN</th>\n",
       "      <th>MAC</th>\n",
       "      <th>SRC</th>\n",
       "      <th>elapsed time</th>\n",
       "      <th>message</th>\n",
       "      <th>msg type</th>\n",
       "      <th>server name</th>\n",
       "      <th>service name</th>\n",
       "      <th>datetime</th>\n",
       "    </tr>\n",
       "  </thead>\n",
       "  <tbody>\n",
       "    <tr>\n",
       "      <th>0</th>\n",
       "      <td>138.68.10.91</td>\n",
       "      <td>eth0</td>\n",
       "      <td>42:27:1c:b8:86:9e:30:7c:5e:91:9c:30:08:00</td>\n",
       "      <td>104.155.153.206</td>\n",
       "      <td>21.950901</td>\n",
       "      <td>[UFW BLOCK] IN=eth0 OUT= MAC=42:27:1c:b8:86:9e...</td>\n",
       "      <td>[UFW BLOCK]</td>\n",
       "      <td>django-s-1vcpu-1gb-sfo2-01</td>\n",
       "      <td>kernel</td>\n",
       "      <td>2020-04-06 18:58:09</td>\n",
       "    </tr>\n",
       "    <tr>\n",
       "      <th>1</th>\n",
       "      <td>138.68.10.91</td>\n",
       "      <td>eth0</td>\n",
       "      <td>42:27:1c:b8:86:9e:30:7c:5e:93:1c:70:08:00</td>\n",
       "      <td>71.234.0.96</td>\n",
       "      <td>22.096127</td>\n",
       "      <td>[UFW BLOCK] IN=eth0 OUT= MAC=42:27:1c:b8:86:9e...</td>\n",
       "      <td>[UFW BLOCK]</td>\n",
       "      <td>django-s-1vcpu-1gb-sfo2-01</td>\n",
       "      <td>kernel</td>\n",
       "      <td>2020-04-06 18:58:09</td>\n",
       "    </tr>\n",
       "    <tr>\n",
       "      <th>2</th>\n",
       "      <td>138.68.10.91</td>\n",
       "      <td>eth0</td>\n",
       "      <td>42:27:1c:b8:86:9e:30:7c:5e:91:9c:30:08:00</td>\n",
       "      <td>159.69.34.106</td>\n",
       "      <td>22.104043</td>\n",
       "      <td>[UFW BLOCK] IN=eth0 OUT= MAC=42:27:1c:b8:86:9e...</td>\n",
       "      <td>[UFW BLOCK]</td>\n",
       "      <td>django-s-1vcpu-1gb-sfo2-01</td>\n",
       "      <td>kernel</td>\n",
       "      <td>2020-04-06 18:58:09</td>\n",
       "    </tr>\n",
       "    <tr>\n",
       "      <th>3</th>\n",
       "      <td>138.68.10.91</td>\n",
       "      <td>eth0</td>\n",
       "      <td>42:27:1c:b8:86:9e:30:7c:5e:93:1c:70:08:00</td>\n",
       "      <td>159.69.34.106</td>\n",
       "      <td>22.170431</td>\n",
       "      <td>[UFW BLOCK] IN=eth0 OUT= MAC=42:27:1c:b8:86:9e...</td>\n",
       "      <td>[UFW BLOCK]</td>\n",
       "      <td>django-s-1vcpu-1gb-sfo2-01</td>\n",
       "      <td>kernel</td>\n",
       "      <td>2020-04-06 18:58:09</td>\n",
       "    </tr>\n",
       "    <tr>\n",
       "      <th>4</th>\n",
       "      <td>138.68.10.91</td>\n",
       "      <td>eth0</td>\n",
       "      <td>42:27:1c:b8:86:9e:30:7c:5e:93:1c:70:08:00</td>\n",
       "      <td>159.69.34.106</td>\n",
       "      <td>22.174797</td>\n",
       "      <td>[UFW BLOCK] IN=eth0 OUT= MAC=42:27:1c:b8:86:9e...</td>\n",
       "      <td>[UFW BLOCK]</td>\n",
       "      <td>django-s-1vcpu-1gb-sfo2-01</td>\n",
       "      <td>kernel</td>\n",
       "      <td>2020-04-06 18:58:09</td>\n",
       "    </tr>\n",
       "  </tbody>\n",
       "</table>\n",
       "</div>"
      ],
      "text/plain": [
       "            DST    IN                                        MAC  \\\n",
       "0  138.68.10.91  eth0  42:27:1c:b8:86:9e:30:7c:5e:91:9c:30:08:00   \n",
       "1  138.68.10.91  eth0  42:27:1c:b8:86:9e:30:7c:5e:93:1c:70:08:00   \n",
       "2  138.68.10.91  eth0  42:27:1c:b8:86:9e:30:7c:5e:91:9c:30:08:00   \n",
       "3  138.68.10.91  eth0  42:27:1c:b8:86:9e:30:7c:5e:93:1c:70:08:00   \n",
       "4  138.68.10.91  eth0  42:27:1c:b8:86:9e:30:7c:5e:93:1c:70:08:00   \n",
       "\n",
       "               SRC elapsed time  \\\n",
       "0  104.155.153.206    21.950901   \n",
       "1      71.234.0.96    22.096127   \n",
       "2    159.69.34.106    22.104043   \n",
       "3    159.69.34.106    22.170431   \n",
       "4    159.69.34.106    22.174797   \n",
       "\n",
       "                                             message     msg type  \\\n",
       "0  [UFW BLOCK] IN=eth0 OUT= MAC=42:27:1c:b8:86:9e...  [UFW BLOCK]   \n",
       "1  [UFW BLOCK] IN=eth0 OUT= MAC=42:27:1c:b8:86:9e...  [UFW BLOCK]   \n",
       "2  [UFW BLOCK] IN=eth0 OUT= MAC=42:27:1c:b8:86:9e...  [UFW BLOCK]   \n",
       "3  [UFW BLOCK] IN=eth0 OUT= MAC=42:27:1c:b8:86:9e...  [UFW BLOCK]   \n",
       "4  [UFW BLOCK] IN=eth0 OUT= MAC=42:27:1c:b8:86:9e...  [UFW BLOCK]   \n",
       "\n",
       "                  server name service name            datetime  \n",
       "0  django-s-1vcpu-1gb-sfo2-01       kernel 2020-04-06 18:58:09  \n",
       "1  django-s-1vcpu-1gb-sfo2-01       kernel 2020-04-06 18:58:09  \n",
       "2  django-s-1vcpu-1gb-sfo2-01       kernel 2020-04-06 18:58:09  \n",
       "3  django-s-1vcpu-1gb-sfo2-01       kernel 2020-04-06 18:58:09  \n",
       "4  django-s-1vcpu-1gb-sfo2-01       kernel 2020-04-06 18:58:09  "
      ]
     },
     "execution_count": 52,
     "metadata": {},
     "output_type": "execute_result"
    }
   ],
   "source": [
    "df.head()"
   ]
  },
  {
   "cell_type": "code",
   "execution_count": 54,
   "metadata": {},
   "outputs": [
    {
     "data": {
      "text/plain": [
       "167.172.250.37    7984\n",
       "138.68.10.91      1533\n",
       "Name: DST, dtype: int64"
      ]
     },
     "execution_count": 54,
     "metadata": {},
     "output_type": "execute_result"
    }
   ],
   "source": [
    "df['DST'].value_counts()"
   ]
  },
  {
   "cell_type": "code",
   "execution_count": 56,
   "metadata": {},
   "outputs": [
    {
     "data": {
      "text/plain": [
       "213.166.71.30      2115\n",
       "185.176.27.246      270\n",
       "104.155.153.206     186\n",
       "45.231.154.1        169\n",
       "45.231.152.1        152\n",
       "104.211.140.12      108\n",
       "134.209.151.197     102\n",
       "194.26.29.210        93\n",
       "194.26.29.114        90\n",
       "194.127.179.142      88\n",
       "194.26.29.213        86\n",
       "212.32.229.34        81\n",
       "194.26.29.212        79\n",
       "89.248.167.141       63\n",
       "78.128.113.42        61\n",
       "87.251.74.60         60\n",
       "185.156.73.65        57\n",
       "149.56.254.151       56\n",
       "13.80.131.151        55\n",
       "185.176.27.86        46\n",
       "Name: SRC, dtype: int64"
      ]
     },
     "execution_count": 56,
     "metadata": {},
     "output_type": "execute_result"
    }
   ],
   "source": [
    "df['SRC'].value_counts().head(20)"
   ]
  },
  {
   "cell_type": "code",
   "execution_count": null,
   "metadata": {},
   "outputs": [],
   "source": []
  }
 ],
 "metadata": {
  "kernelspec": {
   "display_name": "Python 3",
   "language": "python",
   "name": "python3"
  },
  "language_info": {
   "codemirror_mode": {
    "name": "ipython",
    "version": 3
   },
   "file_extension": ".py",
   "mimetype": "text/x-python",
   "name": "python",
   "nbconvert_exporter": "python",
   "pygments_lexer": "ipython3",
   "version": "3.6.6"
  }
 },
 "nbformat": 4,
 "nbformat_minor": 2
}
