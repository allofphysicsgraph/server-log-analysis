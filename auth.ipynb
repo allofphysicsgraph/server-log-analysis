{
 "cells": [
  {
   "cell_type": "markdown",
   "metadata": {},
   "source": [
    "# analysis of /var/log/auth.log \n",
    "\n",
    "data collected April 6, 2020 to April 25, 2020 on a DigitalOcean droplet running Ubuntu 18.04\n",
    "\n"
   ]
  },
  {
   "cell_type": "code",
   "execution_count": 1,
   "metadata": {},
   "outputs": [
    {
     "name": "stdout",
     "output_type": "stream",
     "text": [
      "Requirement already satisfied: python-geoip-geolite2 in /opt/conda/lib/python3.6/site-packages (2015.303)\n",
      "Requirement already satisfied: python-geoip in /opt/conda/lib/python3.6/site-packages (from python-geoip-geolite2) (1.2)\n",
      "Requirement already satisfied: python-geoip-python3 in /opt/conda/lib/python3.6/site-packages (1.3)\n"
     ]
    }
   ],
   "source": [
    "# the order of installation matters for these two :(\n",
    "!pip install python-geoip-geolite2\n",
    "!pip install python-geoip-python3\n",
    "#!pip install maxminddb-geolite2 # https://github.com/rr2do2/maxminddb-geolite2"
   ]
  },
  {
   "cell_type": "code",
   "execution_count": 2,
   "metadata": {},
   "outputs": [
    {
     "name": "stdout",
     "output_type": "stream",
     "text": [
      "pandas 0.23.4\n",
      "3.6.6 | packaged by conda-forge | (default, Oct 12 2018, 14:08:43) \n",
      "[GCC 4.8.2 20140120 (Red Hat 4.8.2-15)]\n"
     ]
    }
   ],
   "source": [
    "import pandas\n",
    "print('pandas',pandas.__version__)\n",
    "import re # https://docs.python.org/3/library/re.html\n",
    "from collections import Counter\n",
    "import ipaddress # https://docs.python.org/3/library/ipaddress.html\n",
    "import time\n",
    "import sys\n",
    "print(sys.version)\n",
    "import matplotlib.pyplot as plt\n",
    "from geoip import geolite2 # https://pythonhosted.org/python-geoip/\n"
   ]
  },
  {
   "cell_type": "raw",
   "metadata": {},
   "source": [
    "# the following doesn't work because only the date has a consistent width\n",
    "# http://jonathansoma.com/lede/foundations-2017/pandas/opening-fixed-width-files/\n",
    "widths = [\n",
    "    9, #date\n",
    "    19, #hostname\n",
    "    6, #process\n",
    "]\n",
    "pandas.read_fwf('auth.log', header=None)"
   ]
  },
  {
   "cell_type": "code",
   "execution_count": 3,
   "metadata": {},
   "outputs": [],
   "source": [
    "with open('auth.log','r') as f:\n",
    "    lines = f.readlines()"
   ]
  },
  {
   "cell_type": "code",
   "execution_count": 4,
   "metadata": {},
   "outputs": [
    {
     "data": {
      "text/plain": [
       "'Apr  6 18:58:00 django-s-1vcpu-1gb-sfo2-01 systemd-logind[854]: Watching system buttons on /dev/input/event0 (Power Button)\\n'"
      ]
     },
     "execution_count": 4,
     "metadata": {},
     "output_type": "execute_result"
    }
   ],
   "source": [
    "lines[0]"
   ]
  },
  {
   "cell_type": "markdown",
   "metadata": {},
   "source": [
    "## convert list of lines into a list of dicts suitable for a Pandas dataframe"
   ]
  },
  {
   "cell_type": "code",
   "execution_count": 5,
   "metadata": {},
   "outputs": [],
   "source": [
    "list_of_dicts = []\n",
    "for indx, line in enumerate(lines):\n",
    "    line_as_dict = {}\n",
    "\n",
    "    # https://security.stackexchange.com/questions/18207/security-of-log-files-injecting-malicious-code-in-log-files/18209\n",
    "    line = line.replace('\\x00','') # there was a bad character on `lines[6615]`\n",
    "\n",
    "#    line_as_dict['month'] = line[0:4].strip()\n",
    "#    line_as_dict['day'] = line[4:6].strip()\n",
    "#    line_as_dict['hour'] = line[6:9].strip()\n",
    "#    line_as_dict['minute'] = line[10:12].strip()\n",
    "#    line_as_dict['second'] = line[13:15].strip()\n",
    "    line_as_dict['date time'] = line[0:15]\n",
    "    line_as_list = line[16:].strip().split(' ')\n",
    "\n",
    "#    if 'Apr' in line_as_list[0]:\n",
    "#        print(indx)\n",
    "#        print(line_as_dict)\n",
    "#        print(line)\n",
    "    line_as_dict['server name'] = line_as_list[0].strip()\n",
    "    if '[' in line_as_list[1]: # https://serverfault.com/a/526151\n",
    "        line_as_dict['service name'] = line_as_list[1].split('[')[0].strip()\n",
    "        line_as_dict['pid'] = line_as_list[1].split('[')[1].replace(']:','').strip()\n",
    "    else:\n",
    "        line_as_dict['service name'] = line_as_list[1].strip()\n",
    "    line_as_dict['message'] = ' '.join(line_as_list[2:])\n",
    "    list_of_dicts.append(line_as_dict)"
   ]
  },
  {
   "cell_type": "raw",
   "metadata": {},
   "source": [
    "# one line of the log had hex data\n",
    "lines[6615]"
   ]
  },
  {
   "cell_type": "code",
   "execution_count": 6,
   "metadata": {},
   "outputs": [
    {
     "data": {
      "text/plain": [
       "(9440, 5)"
      ]
     },
     "execution_count": 6,
     "metadata": {},
     "output_type": "execute_result"
    }
   ],
   "source": [
    "df = pandas.DataFrame(list_of_dicts)\n",
    "df.shape"
   ]
  },
  {
   "cell_type": "markdown",
   "metadata": {},
   "source": [
    "convert `date time` string to Python datetime"
   ]
  },
  {
   "cell_type": "code",
   "execution_count": 7,
   "metadata": {},
   "outputs": [],
   "source": [
    "# https://strftime.org/\n",
    "df['datetime'] = pandas.to_datetime('2020 ' + df['date time'], format='%Y %b %d %H:%M:%S')\n",
    "# https://pandas.pydata.org/pandas-docs/stable/reference/api/pandas.DataFrame.drop.html\n",
    "df.drop('date time', inplace=True, axis=1)"
   ]
  },
  {
   "cell_type": "code",
   "execution_count": 8,
   "metadata": {},
   "outputs": [
    {
     "data": {
      "text/html": [
       "<div>\n",
       "<style scoped>\n",
       "    .dataframe tbody tr th:only-of-type {\n",
       "        vertical-align: middle;\n",
       "    }\n",
       "\n",
       "    .dataframe tbody tr th {\n",
       "        vertical-align: top;\n",
       "    }\n",
       "\n",
       "    .dataframe thead th {\n",
       "        text-align: right;\n",
       "    }\n",
       "</style>\n",
       "<table border=\"1\" class=\"dataframe\">\n",
       "  <thead>\n",
       "    <tr style=\"text-align: right;\">\n",
       "      <th></th>\n",
       "      <th>message</th>\n",
       "      <th>pid</th>\n",
       "      <th>server name</th>\n",
       "      <th>service name</th>\n",
       "      <th>datetime</th>\n",
       "    </tr>\n",
       "  </thead>\n",
       "  <tbody>\n",
       "    <tr>\n",
       "      <th>0</th>\n",
       "      <td>Watching system buttons on /dev/input/event0 (...</td>\n",
       "      <td>854</td>\n",
       "      <td>django-s-1vcpu-1gb-sfo2-01</td>\n",
       "      <td>systemd-logind</td>\n",
       "      <td>2020-04-06 18:58:00</td>\n",
       "    </tr>\n",
       "    <tr>\n",
       "      <th>1</th>\n",
       "      <td>Watching system buttons on /dev/input/event1 (...</td>\n",
       "      <td>854</td>\n",
       "      <td>django-s-1vcpu-1gb-sfo2-01</td>\n",
       "      <td>systemd-logind</td>\n",
       "      <td>2020-04-06 18:58:00</td>\n",
       "    </tr>\n",
       "    <tr>\n",
       "      <th>2</th>\n",
       "      <td>New seat seat0.</td>\n",
       "      <td>854</td>\n",
       "      <td>django-s-1vcpu-1gb-sfo2-01</td>\n",
       "      <td>systemd-logind</td>\n",
       "      <td>2020-04-06 18:58:00</td>\n",
       "    </tr>\n",
       "    <tr>\n",
       "      <th>3</th>\n",
       "      <td>Server listening on 0.0.0.0 port 22.</td>\n",
       "      <td>1062</td>\n",
       "      <td>django-s-1vcpu-1gb-sfo2-01</td>\n",
       "      <td>sshd</td>\n",
       "      <td>2020-04-06 18:58:01</td>\n",
       "    </tr>\n",
       "    <tr>\n",
       "      <th>4</th>\n",
       "      <td>Server listening on :: port 22.</td>\n",
       "      <td>1062</td>\n",
       "      <td>django-s-1vcpu-1gb-sfo2-01</td>\n",
       "      <td>sshd</td>\n",
       "      <td>2020-04-06 18:58:01</td>\n",
       "    </tr>\n",
       "  </tbody>\n",
       "</table>\n",
       "</div>"
      ],
      "text/plain": [
       "                                             message   pid  \\\n",
       "0  Watching system buttons on /dev/input/event0 (...   854   \n",
       "1  Watching system buttons on /dev/input/event1 (...   854   \n",
       "2                                    New seat seat0.   854   \n",
       "3               Server listening on 0.0.0.0 port 22.  1062   \n",
       "4                    Server listening on :: port 22.  1062   \n",
       "\n",
       "                  server name    service name            datetime  \n",
       "0  django-s-1vcpu-1gb-sfo2-01  systemd-logind 2020-04-06 18:58:00  \n",
       "1  django-s-1vcpu-1gb-sfo2-01  systemd-logind 2020-04-06 18:58:00  \n",
       "2  django-s-1vcpu-1gb-sfo2-01  systemd-logind 2020-04-06 18:58:00  \n",
       "3  django-s-1vcpu-1gb-sfo2-01            sshd 2020-04-06 18:58:01  \n",
       "4  django-s-1vcpu-1gb-sfo2-01            sshd 2020-04-06 18:58:01  "
      ]
     },
     "execution_count": 8,
     "metadata": {},
     "output_type": "execute_result"
    }
   ],
   "source": [
    "df.head()"
   ]
  },
  {
   "cell_type": "markdown",
   "metadata": {},
   "source": [
    "check that the columns seem reasonable"
   ]
  },
  {
   "cell_type": "code",
   "execution_count": 9,
   "metadata": {},
   "outputs": [
    {
     "data": {
      "text/plain": [
       "django-s-1vcpu-1gb-sfo2-01                           6615\n",
       "pythonflask-quickstart-ubuntu-s-1vcpu-1gb-nyc3-01    2825\n",
       "Name: server name, dtype: int64"
      ]
     },
     "execution_count": 9,
     "metadata": {},
     "output_type": "execute_result"
    }
   ],
   "source": [
    "df['server name'].value_counts()"
   ]
  },
  {
   "cell_type": "code",
   "execution_count": 10,
   "metadata": {},
   "outputs": [
    {
     "data": {
      "text/plain": [
       "sshd                         8565\n",
       "CRON                          714\n",
       "sudo:                          83\n",
       "systemd-logind                 25\n",
       "polkitd(authority=local):      18\n",
       "su                             10\n",
       "systemd:                        7\n",
       "groupadd                        6\n",
       "usermod                         4\n",
       "useradd                         3\n",
       "polkit-agent-helper-1           2\n",
       "chpasswd                        1\n",
       "passwd                          1\n",
       "chfn                            1\n",
       "Name: service name, dtype: int64"
      ]
     },
     "execution_count": 10,
     "metadata": {},
     "output_type": "execute_result"
    }
   ],
   "source": [
    "df['service name'].value_counts()"
   ]
  },
  {
   "cell_type": "markdown",
   "metadata": {},
   "source": [
    "## pid = process ID\n",
    "\n",
    "one pid per login attempt; recycling of pids occurs"
   ]
  },
  {
   "cell_type": "code",
   "execution_count": 11,
   "metadata": {},
   "outputs": [
    {
     "data": {
      "text/plain": [
       "2717"
      ]
     },
     "execution_count": 11,
     "metadata": {},
     "output_type": "execute_result"
    }
   ],
   "source": [
    "df['pid'].nunique()"
   ]
  },
  {
   "cell_type": "code",
   "execution_count": 12,
   "metadata": {},
   "outputs": [
    {
     "data": {
      "text/plain": [
       "886     12\n",
       "3730    10\n",
       "870     10\n",
       "1717     8\n",
       "1709     8\n",
       "Name: pid, dtype: int64"
      ]
     },
     "execution_count": 12,
     "metadata": {},
     "output_type": "execute_result"
    }
   ],
   "source": [
    "df['pid'].value_counts().head()"
   ]
  },
  {
   "cell_type": "code",
   "execution_count": 13,
   "metadata": {},
   "outputs": [
    {
     "data": {
      "text/plain": [
       "1568     1\n",
       "1732     1\n",
       "20081    1\n",
       "18459    1\n",
       "20519    1\n",
       "Name: pid, dtype: int64"
      ]
     },
     "execution_count": 13,
     "metadata": {},
     "output_type": "execute_result"
    }
   ],
   "source": [
    "df['pid'].value_counts().tail()"
   ]
  },
  {
   "cell_type": "code",
   "execution_count": 14,
   "metadata": {},
   "outputs": [
    {
     "data": {
      "text/html": [
       "<div>\n",
       "<style scoped>\n",
       "    .dataframe tbody tr th:only-of-type {\n",
       "        vertical-align: middle;\n",
       "    }\n",
       "\n",
       "    .dataframe tbody tr th {\n",
       "        vertical-align: top;\n",
       "    }\n",
       "\n",
       "    .dataframe thead th {\n",
       "        text-align: right;\n",
       "    }\n",
       "</style>\n",
       "<table border=\"1\" class=\"dataframe\">\n",
       "  <thead>\n",
       "    <tr style=\"text-align: right;\">\n",
       "      <th></th>\n",
       "      <th>message</th>\n",
       "      <th>pid</th>\n",
       "      <th>server name</th>\n",
       "      <th>service name</th>\n",
       "      <th>datetime</th>\n",
       "    </tr>\n",
       "  </thead>\n",
       "  <tbody>\n",
       "    <tr>\n",
       "      <th>0</th>\n",
       "      <td>Watching system buttons on /dev/input/event0 (...</td>\n",
       "      <td>854</td>\n",
       "      <td>django-s-1vcpu-1gb-sfo2-01</td>\n",
       "      <td>systemd-logind</td>\n",
       "      <td>2020-04-06 18:58:00</td>\n",
       "    </tr>\n",
       "    <tr>\n",
       "      <th>1</th>\n",
       "      <td>Watching system buttons on /dev/input/event1 (...</td>\n",
       "      <td>854</td>\n",
       "      <td>django-s-1vcpu-1gb-sfo2-01</td>\n",
       "      <td>systemd-logind</td>\n",
       "      <td>2020-04-06 18:58:00</td>\n",
       "    </tr>\n",
       "    <tr>\n",
       "      <th>2</th>\n",
       "      <td>New seat seat0.</td>\n",
       "      <td>854</td>\n",
       "      <td>django-s-1vcpu-1gb-sfo2-01</td>\n",
       "      <td>systemd-logind</td>\n",
       "      <td>2020-04-06 18:58:00</td>\n",
       "    </tr>\n",
       "    <tr>\n",
       "      <th>24</th>\n",
       "      <td>New session 1 of user root.</td>\n",
       "      <td>854</td>\n",
       "      <td>django-s-1vcpu-1gb-sfo2-01</td>\n",
       "      <td>systemd-logind</td>\n",
       "      <td>2020-04-06 18:59:15</td>\n",
       "    </tr>\n",
       "    <tr>\n",
       "      <th>71</th>\n",
       "      <td>Watching system buttons on /dev/input/event0 (...</td>\n",
       "      <td>854</td>\n",
       "      <td>django-s-1vcpu-1gb-sfo2-01</td>\n",
       "      <td>systemd-logind</td>\n",
       "      <td>2020-04-06 19:01:56</td>\n",
       "    </tr>\n",
       "    <tr>\n",
       "      <th>72</th>\n",
       "      <td>Watching system buttons on /dev/input/event1 (...</td>\n",
       "      <td>854</td>\n",
       "      <td>django-s-1vcpu-1gb-sfo2-01</td>\n",
       "      <td>systemd-logind</td>\n",
       "      <td>2020-04-06 19:01:56</td>\n",
       "    </tr>\n",
       "    <tr>\n",
       "      <th>266</th>\n",
       "      <td>New session 5 of user root.</td>\n",
       "      <td>854</td>\n",
       "      <td>django-s-1vcpu-1gb-sfo2-01</td>\n",
       "      <td>systemd-logind</td>\n",
       "      <td>2020-04-06 19:17:56</td>\n",
       "    </tr>\n",
       "  </tbody>\n",
       "</table>\n",
       "</div>"
      ],
      "text/plain": [
       "                                               message  pid  \\\n",
       "0    Watching system buttons on /dev/input/event0 (...  854   \n",
       "1    Watching system buttons on /dev/input/event1 (...  854   \n",
       "2                                      New seat seat0.  854   \n",
       "24                         New session 1 of user root.  854   \n",
       "71   Watching system buttons on /dev/input/event0 (...  854   \n",
       "72   Watching system buttons on /dev/input/event1 (...  854   \n",
       "266                        New session 5 of user root.  854   \n",
       "\n",
       "                    server name    service name            datetime  \n",
       "0    django-s-1vcpu-1gb-sfo2-01  systemd-logind 2020-04-06 18:58:00  \n",
       "1    django-s-1vcpu-1gb-sfo2-01  systemd-logind 2020-04-06 18:58:00  \n",
       "2    django-s-1vcpu-1gb-sfo2-01  systemd-logind 2020-04-06 18:58:00  \n",
       "24   django-s-1vcpu-1gb-sfo2-01  systemd-logind 2020-04-06 18:59:15  \n",
       "71   django-s-1vcpu-1gb-sfo2-01  systemd-logind 2020-04-06 19:01:56  \n",
       "72   django-s-1vcpu-1gb-sfo2-01  systemd-logind 2020-04-06 19:01:56  \n",
       "266  django-s-1vcpu-1gb-sfo2-01  systemd-logind 2020-04-06 19:17:56  "
      ]
     },
     "execution_count": 14,
     "metadata": {},
     "output_type": "execute_result"
    }
   ],
   "source": [
    "# https://realpython.com/pandas-groupby/\n",
    "# https://stackoverflow.com/questions/14734533/how-to-access-pandas-groupby-dataframe-by-key\n",
    "\n",
    "df.groupby('pid').get_group('854').sort_values([\"datetime\"])"
   ]
  },
  {
   "cell_type": "code",
   "execution_count": 15,
   "metadata": {},
   "outputs": [
    {
     "data": {
      "text/html": [
       "<div>\n",
       "<style scoped>\n",
       "    .dataframe tbody tr th:only-of-type {\n",
       "        vertical-align: middle;\n",
       "    }\n",
       "\n",
       "    .dataframe tbody tr th {\n",
       "        vertical-align: top;\n",
       "    }\n",
       "\n",
       "    .dataframe thead th {\n",
       "        text-align: right;\n",
       "    }\n",
       "</style>\n",
       "<table border=\"1\" class=\"dataframe\">\n",
       "  <thead>\n",
       "    <tr style=\"text-align: right;\">\n",
       "      <th></th>\n",
       "      <th>message</th>\n",
       "      <th>pid</th>\n",
       "      <th>server name</th>\n",
       "      <th>service name</th>\n",
       "      <th>datetime</th>\n",
       "    </tr>\n",
       "  </thead>\n",
       "  <tbody>\n",
       "    <tr>\n",
       "      <th>8314</th>\n",
       "      <td>Connection closed by 218.89.250.77 port 46748 ...</td>\n",
       "      <td>18171</td>\n",
       "      <td>pythonflask-quickstart-ubuntu-s-1vcpu-1gb-nyc3-01</td>\n",
       "      <td>sshd</td>\n",
       "      <td>2020-04-25 03:49:50</td>\n",
       "    </tr>\n",
       "  </tbody>\n",
       "</table>\n",
       "</div>"
      ],
      "text/plain": [
       "                                                message    pid  \\\n",
       "8314  Connection closed by 218.89.250.77 port 46748 ...  18171   \n",
       "\n",
       "                                            server name service name  \\\n",
       "8314  pythonflask-quickstart-ubuntu-s-1vcpu-1gb-nyc3-01         sshd   \n",
       "\n",
       "                datetime  \n",
       "8314 2020-04-25 03:49:50  "
      ]
     },
     "execution_count": 15,
     "metadata": {},
     "output_type": "execute_result"
    }
   ],
   "source": [
    "df.groupby('pid').get_group('18171').sort_values([\"datetime\"])"
   ]
  },
  {
   "cell_type": "code",
   "execution_count": 16,
   "metadata": {},
   "outputs": [
    {
     "data": {
      "text/plain": [
       "'Connection closed by 218.89.250.77 port 46748 [preauth]'"
      ]
     },
     "execution_count": 16,
     "metadata": {},
     "output_type": "execute_result"
    }
   ],
   "source": [
    "df.loc[8314]['message']"
   ]
  },
  {
   "cell_type": "markdown",
   "metadata": {},
   "source": [
    "# what user names are being attempted?"
   ]
  },
  {
   "cell_type": "code",
   "execution_count": 17,
   "metadata": {},
   "outputs": [],
   "source": [
    "list_of_attempted_users = []\n",
    "relevant_entries = []\n",
    "for indx, msg in df['message'].items():\n",
    "#    if msg.startswith('Invalid user '):\n",
    "#        list_of_attempted_users.append(msg.replace('Invalid user ',''))\n",
    "    if msg.startswith('Failed password for invalid user'):\n",
    "        list_of_attempted_users.append(msg.replace('Failed password for invalid user ',''))\n",
    "    elif msg.startswith('Failed password for '):\n",
    "        list_of_attempted_users.append(msg.replace('Failed password for ',''))\n",
    "    elif (msg.startswith('Disconnected from') or \n",
    "          msg.startswith('New session') or \n",
    "          msg.startswith('Invalid user ') or \n",
    "          msg.startswith('Received disconnect from ') or \n",
    "          msg.startswith('Connection closed by ') or \n",
    "          msg.startswith('Connection reset by ') or\n",
    "          msg.startswith('Unable to negotiate with') or\n",
    "          msg.startswith('PAM 2 more authentication failures') or\n",
    "          msg.startswith('pam_unix(sshd:auth): authentication failure') or\n",
    "          msg.startswith('error: Received disconnect from ') or\n",
    "          msg.startswith('Did not receive identification string') or\n",
    "          msg.startswith('message repeated 2 times: [ Failed password')):\n",
    "        #print(msg)\n",
    "        continue\n",
    "    else:\n",
    "        relevant_entries.append(msg)#[0:40])\n",
    "#    if 'Failed password' in msg:\n",
    "#        print(msg)"
   ]
  },
  {
   "cell_type": "code",
   "execution_count": 18,
   "metadata": {},
   "outputs": [],
   "source": [
    "list_of_users = []\n",
    "for entry in list_of_attempted_users:\n",
    "    list_of_users.append(entry.split(' ')[0])"
   ]
  },
  {
   "cell_type": "code",
   "execution_count": 19,
   "metadata": {},
   "outputs": [],
   "source": [
    "# https://stackoverflow.com/a/5829377/1164295\n",
    "u = Counter(list_of_users)"
   ]
  },
  {
   "cell_type": "code",
   "execution_count": 20,
   "metadata": {},
   "outputs": [],
   "source": [
    "# https://stackoverflow.com/a/55292813/1164295\n",
    "sorted_u = {k: u[k] for k in sorted(u, key=u.get, reverse=True) if u[k]>3}"
   ]
  },
  {
   "cell_type": "code",
   "execution_count": 21,
   "metadata": {},
   "outputs": [
    {
     "data": {
      "image/png": "[encoded data removed]",
      "text/plain": [
       "<Figure size 432x288 with 1 Axes>"
      ]
     },
     "metadata": {
      "needs_background": "light"
     },
     "output_type": "display_data"
    }
   ],
   "source": [
    "# https://stackoverflow.com/a/16014873/1164295\n",
    "plt.bar(range(len(sorted_u)), list(sorted_u.values()), align='center')\n",
    "_=plt.xticks(range(len(sorted_u)), list(sorted_u.keys()), rotation='vertical')\n",
    "_=plt.ylabel('number of login attempts')\n",
    "_=plt.xlabel('user name attempted')"
   ]
  },
  {
   "cell_type": "markdown",
   "metadata": {},
   "source": [
    "### add username as column in df"
   ]
  },
  {
   "cell_type": "code",
   "execution_count": 22,
   "metadata": {},
   "outputs": [],
   "source": [
    "def extract_username(msg):\n",
    "    if msg.startswith('Failed password for invalid user '):\n",
    "        return msg.replace('Failed password for invalid user ','').split(' ')[0]\n",
    "    elif msg.startswith('Failed password for '):\n",
    "        return msg.replace('Failed password for ','').split(' ')[0]\n",
    "    elif msg.startswith('Invalid user '):\n",
    "        return msg.replace('Invalid user ','').split(' ')[0]\n",
    "    else:\n",
    "        return None"
   ]
  },
  {
   "cell_type": "code",
   "execution_count": 23,
   "metadata": {},
   "outputs": [],
   "source": [
    "df['username'] = df['message'].apply(extract_username)"
   ]
  },
  {
   "cell_type": "code",
   "execution_count": 24,
   "metadata": {},
   "outputs": [
    {
     "data": {
      "text/plain": [
       "root      203\n",
       "user      166\n",
       "admin     163\n",
       "test      146\n",
       "deploy    144\n",
       "Name: username, dtype: int64"
      ]
     },
     "execution_count": 24,
     "metadata": {},
     "output_type": "execute_result"
    }
   ],
   "source": [
    "df['username'].value_counts().head()"
   ]
  },
  {
   "cell_type": "code",
   "execution_count": 25,
   "metadata": {},
   "outputs": [
    {
     "data": {
      "text/html": [
       "<div>\n",
       "<style scoped>\n",
       "    .dataframe tbody tr th:only-of-type {\n",
       "        vertical-align: middle;\n",
       "    }\n",
       "\n",
       "    .dataframe tbody tr th {\n",
       "        vertical-align: top;\n",
       "    }\n",
       "\n",
       "    .dataframe thead th {\n",
       "        text-align: right;\n",
       "    }\n",
       "</style>\n",
       "<table border=\"1\" class=\"dataframe\">\n",
       "  <thead>\n",
       "    <tr style=\"text-align: right;\">\n",
       "      <th></th>\n",
       "      <th>message</th>\n",
       "      <th>pid</th>\n",
       "      <th>server name</th>\n",
       "      <th>service name</th>\n",
       "      <th>datetime</th>\n",
       "      <th>username</th>\n",
       "    </tr>\n",
       "  </thead>\n",
       "  <tbody>\n",
       "    <tr>\n",
       "      <th>11</th>\n",
       "      <td>Failed password for root from 200.0.236.210 po...</td>\n",
       "      <td>1709</td>\n",
       "      <td>django-s-1vcpu-1gb-sfo2-01</td>\n",
       "      <td>sshd</td>\n",
       "      <td>2020-04-06 18:58:38</td>\n",
       "      <td>root</td>\n",
       "    </tr>\n",
       "    <tr>\n",
       "      <th>14</th>\n",
       "      <td>Invalid user ubuntu from 111.229.167.10 port 3...</td>\n",
       "      <td>1717</td>\n",
       "      <td>django-s-1vcpu-1gb-sfo2-01</td>\n",
       "      <td>sshd</td>\n",
       "      <td>2020-04-06 18:58:49</td>\n",
       "      <td>ubuntu</td>\n",
       "    </tr>\n",
       "    <tr>\n",
       "      <th>17</th>\n",
       "      <td>Failed password for invalid user ubuntu from 1...</td>\n",
       "      <td>1717</td>\n",
       "      <td>django-s-1vcpu-1gb-sfo2-01</td>\n",
       "      <td>sshd</td>\n",
       "      <td>2020-04-06 18:58:51</td>\n",
       "      <td>ubuntu</td>\n",
       "    </tr>\n",
       "    <tr>\n",
       "      <th>30</th>\n",
       "      <td>Failed password for root from 37.252.189.70 po...</td>\n",
       "      <td>2121</td>\n",
       "      <td>django-s-1vcpu-1gb-sfo2-01</td>\n",
       "      <td>sshd</td>\n",
       "      <td>2020-04-06 19:00:06</td>\n",
       "      <td>root</td>\n",
       "    </tr>\n",
       "    <tr>\n",
       "      <th>34</th>\n",
       "      <td>Failed password for root from 79.137.72.121 po...</td>\n",
       "      <td>3730</td>\n",
       "      <td>django-s-1vcpu-1gb-sfo2-01</td>\n",
       "      <td>sshd</td>\n",
       "      <td>2020-04-06 19:00:32</td>\n",
       "      <td>root</td>\n",
       "    </tr>\n",
       "  </tbody>\n",
       "</table>\n",
       "</div>"
      ],
      "text/plain": [
       "                                              message   pid  \\\n",
       "11  Failed password for root from 200.0.236.210 po...  1709   \n",
       "14  Invalid user ubuntu from 111.229.167.10 port 3...  1717   \n",
       "17  Failed password for invalid user ubuntu from 1...  1717   \n",
       "30  Failed password for root from 37.252.189.70 po...  2121   \n",
       "34  Failed password for root from 79.137.72.121 po...  3730   \n",
       "\n",
       "                   server name service name            datetime username  \n",
       "11  django-s-1vcpu-1gb-sfo2-01         sshd 2020-04-06 18:58:38     root  \n",
       "14  django-s-1vcpu-1gb-sfo2-01         sshd 2020-04-06 18:58:49   ubuntu  \n",
       "17  django-s-1vcpu-1gb-sfo2-01         sshd 2020-04-06 18:58:51   ubuntu  \n",
       "30  django-s-1vcpu-1gb-sfo2-01         sshd 2020-04-06 19:00:06     root  \n",
       "34  django-s-1vcpu-1gb-sfo2-01         sshd 2020-04-06 19:00:32     root  "
      ]
     },
     "execution_count": 25,
     "metadata": {},
     "output_type": "execute_result"
    }
   ],
   "source": [
    "# https://pandas.pydata.org/pandas-docs/stable/reference/api/pandas.DataFrame.notnull.html\n",
    "df[df['username'].notnull()].head()"
   ]
  },
  {
   "cell_type": "markdown",
   "metadata": {},
   "source": [
    "# look for IP addresses in the messages"
   ]
  },
  {
   "cell_type": "code",
   "execution_count": 26,
   "metadata": {},
   "outputs": [],
   "source": [
    "list_of_ips = []\n",
    "for indx, msg in df['message'].items():\n",
    "    # https://www.regular-expressions.info/ip.html\n",
    "    res = re.findall('(25[0-5]|2[0-4][0-9]|1[0-9][0-9]|[1-9]?[0-9])\\.'+\n",
    "                     '(25[0-5]|2[0-4][0-9]|1[0-9][0-9]|[1-9]?[0-9])\\.'+\n",
    "                     '(25[0-5]|2[0-4][0-9]|1[0-9][0-9]|[1-9]?[0-9])\\.'+\n",
    "                     '(25[0-5]|2[0-4][0-9]|1[0-9][0-9]|[1-9]?[0-9])',msg)\n",
    "    if res:\n",
    "        if len(res)>1:\n",
    "            print(res)\n",
    "        else:\n",
    "#            print(indx)\n",
    "            list_of_ips.append('.'.join(res[0]))\n",
    "    "
   ]
  },
  {
   "cell_type": "markdown",
   "metadata": {},
   "source": [
    "## sort by number of times the IP address appears in the logs"
   ]
  },
  {
   "cell_type": "code",
   "execution_count": 27,
   "metadata": {},
   "outputs": [],
   "source": [
    "# https://stackoverflow.com/a/5829377/1164295\n",
    "d = Counter(list_of_ips)"
   ]
  },
  {
   "cell_type": "code",
   "execution_count": 28,
   "metadata": {},
   "outputs": [
    {
     "data": {
      "text/plain": [
       "{'218.89.250.77': 246,\n",
       " '165.227.30.198': 187,\n",
       " '34.74.196.104': 148,\n",
       " '139.59.58.115': 148,\n",
       " '61.187.53.119': 147,\n",
       " '129.226.161.114': 146,\n",
       " '121.122.40.109': 146,\n",
       " '183.129.141.30': 146,\n",
       " '201.57.40.70': 146,\n",
       " '152.136.36.250': 146,\n",
       " '103.16.223.243': 145,\n",
       " '106.12.155.45': 145,\n",
       " '132.145.242.238': 145,\n",
       " '124.88.37.161': 145,\n",
       " '110.49.142.46': 144,\n",
       " '115.42.127.133': 144,\n",
       " '198.199.122.234': 142,\n",
       " '157.230.208.92': 141,\n",
       " '189.4.28.99': 140,\n",
       " '58.150.46.6': 139,\n",
       " '106.13.4.250': 138,\n",
       " '118.24.9.152': 136,\n",
       " '37.49.226.19': 136,\n",
       " '106.124.131.194': 135,\n",
       " '209.97.133.196': 132,\n",
       " '118.24.2.218': 130,\n",
       " '177.152.16.45': 124,\n",
       " '103.26.40.145': 122,\n",
       " '138.68.106.62': 122,\n",
       " '207.180.244.29': 122,\n",
       " '148.70.32.179': 115,\n",
       " '45.120.69.97': 113,\n",
       " '111.229.167.10': 101,\n",
       " '141.98.81.38': 100,\n",
       " '193.70.37.133': 100,\n",
       " '51.15.99.106': 97,\n",
       " '198.199.112.219': 96,\n",
       " '40.83.125.50': 85,\n",
       " '36.155.113.40': 84,\n",
       " '182.75.216.74': 82,\n",
       " '49.231.182.35': 77,\n",
       " '125.227.255.79': 73,\n",
       " '222.186.31.166': 71,\n",
       " '195.70.59.121': 64,\n",
       " '222.186.190.14': 63,\n",
       " '14.98.4.82': 59,\n",
       " '222.186.30.218': 58,\n",
       " '222.186.30.76': 58,\n",
       " '222.186.15.10': 54,\n",
       " '183.129.141.44': 54,\n",
       " '222.186.180.142': 52,\n",
       " '222.186.31.83': 52,\n",
       " '222.186.42.137': 50,\n",
       " '222.186.180.130': 49,\n",
       " '141.98.81.37': 48,\n",
       " '222.186.30.167': 47,\n",
       " '222.186.30.112': 47,\n",
       " '222.186.42.7': 46,\n",
       " '51.91.140.218': 45,\n",
       " '222.186.30.57': 44,\n",
       " '42.159.201.45': 42,\n",
       " '219.147.205.227': 42,\n",
       " '200.0.236.210': 40,\n",
       " '37.252.189.70': 40,\n",
       " '222.186.30.35': 40,\n",
       " '222.186.15.115': 40,\n",
       " '222.186.15.158': 38,\n",
       " '79.137.72.121': 36,\n",
       " '222.186.52.39': 34,\n",
       " '222.186.15.62': 34,\n",
       " '222.186.42.155': 34,\n",
       " '51.77.212.235': 32,\n",
       " '222.186.15.114': 32,\n",
       " '222.186.42.136': 31,\n",
       " '222.186.175.23': 29,\n",
       " '61.19.146.226': 25,\n",
       " '168.227.201.202': 24,\n",
       " '202.131.69.18': 22,\n",
       " '183.220.146.254': 20,\n",
       " '222.186.52.139': 19,\n",
       " '212.51.148.162': 19,\n",
       " '222.186.42.75': 18,\n",
       " '52.186.168.121': 18,\n",
       " '45.95.168.247': 18,\n",
       " '45.95.168.251': 18,\n",
       " '202.43.164.162': 15,\n",
       " '118.174.65.2': 15,\n",
       " '192.99.56.117': 15,\n",
       " '159.65.54.221': 15,\n",
       " '157.230.163.6': 14,\n",
       " '138.68.59.56': 14,\n",
       " '212.112.108.73': 13,\n",
       " '167.99.152.121': 12,\n",
       " '141.98.9.157': 12,\n",
       " '141.98.9.160': 12,\n",
       " '141.98.9.161': 12,\n",
       " '141.98.9.137': 12,\n",
       " '141.98.81.84': 12,\n",
       " '141.98.81.108': 12,\n",
       " '141.98.81.81': 12,\n",
       " '23.95.89.71': 11,\n",
       " '1.10.141.254': 10,\n",
       " '157.245.104.96': 10,\n",
       " '71.244.214.232': 10,\n",
       " '112.85.42.94': 10,\n",
       " '141.98.9.159': 9,\n",
       " '141.98.9.156': 9,\n",
       " '141.98.81.83': 9,\n",
       " '141.98.81.99': 9,\n",
       " '141.98.81.107': 9,\n",
       " '157.245.79.243': 9,\n",
       " '80.82.64.124': 8,\n",
       " '222.186.30.248': 7,\n",
       " '0.0.0.0': 6,\n",
       " '134.209.100.26': 5,\n",
       " '213.32.120.155': 5,\n",
       " '185.202.1.164': 5,\n",
       " '103.4.217.138': 5,\n",
       " '194.184.198.62': 5,\n",
       " '92.222.36.74': 5,\n",
       " '184.82.27.25': 5,\n",
       " '145.255.31.52': 5,\n",
       " '189.35.82.136': 5,\n",
       " '117.33.253.49': 5,\n",
       " '61.78.107.61': 5,\n",
       " '157.131.112.116': 4,\n",
       " '193.142.146.21': 4,\n",
       " '101.231.154.154': 4,\n",
       " '1.10.141.248': 4,\n",
       " '107.174.233.133': 4,\n",
       " '114.24.130.110': 4,\n",
       " '197.231.70.61': 4,\n",
       " '1.251.0.135': 4,\n",
       " '94.39.208.238': 4,\n",
       " '144.217.207.15': 3,\n",
       " '139.162.122.110': 3,\n",
       " '123.201.14.14': 3,\n",
       " '203.185.4.41': 2,\n",
       " '164.68.112.178': 2,\n",
       " '49.88.112.72': 2,\n",
       " '187.37.205.24': 2,\n",
       " '14.186.46.148': 2,\n",
       " '41.38.206.180': 2,\n",
       " '104.244.75.191': 2,\n",
       " '177.185.217.16': 2,\n",
       " '49.88.112.69': 2,\n",
       " '45.67.14.21': 2,\n",
       " '89.248.174.151': 2,\n",
       " '185.202.1.240': 2,\n",
       " '103.99.155.250': 2,\n",
       " '106.13.48.122': 1,\n",
       " '177.141.123.20': 1,\n",
       " '95.85.12.122': 1,\n",
       " '217.146.86.154': 1,\n",
       " '88.146.200.8': 1,\n",
       " '124.143.128.150': 1,\n",
       " '192.241.239.116': 1,\n",
       " '179.106.64.134': 1,\n",
       " '114.67.100.234': 1,\n",
       " '92.118.161.41': 1,\n",
       " '139.162.75.112': 1,\n",
       " '65.49.20.68': 1,\n",
       " '36.90.212.84': 1,\n",
       " '149.129.103.50': 1,\n",
       " '110.171.217.225': 1,\n",
       " '186.91.70.18': 1,\n",
       " '58.11.27.198': 1,\n",
       " '176.236.195.194': 1,\n",
       " '119.241.34.33': 1,\n",
       " '88.251.163.3': 1,\n",
       " '111.253.97.158': 1,\n",
       " '83.97.20.31': 1,\n",
       " '192.241.239.192': 1,\n",
       " '195.154.199.139': 1,\n",
       " '89.248.174.3': 1,\n",
       " '222.140.6.8': 1,\n",
       " '103.220.205.198': 1,\n",
       " '181.188.176.141': 1,\n",
       " '196.52.43.63': 1,\n",
       " '190.57.160.161': 1,\n",
       " '41.92.108.110': 1,\n",
       " '171.25.193.25': 1,\n",
       " '162.243.128.180': 1,\n",
       " '65.49.20.67': 1,\n",
       " '8.36.123.218': 1,\n",
       " '71.6.232.6': 1,\n",
       " '27.3.9.57': 1,\n",
       " '31.13.131.138': 1,\n",
       " '185.88.26.26': 1,\n",
       " '103.120.115.140': 1,\n",
       " '171.239.52.209': 1,\n",
       " '31.223.251.10': 1,\n",
       " '45.83.66.227': 1,\n",
       " '196.52.43.85': 1,\n",
       " '51.91.102.49': 1,\n",
       " '184.22.75.96': 1,\n",
       " '148.0.191.142': 1,\n",
       " '178.32.92.81': 1,\n",
       " '93.155.216.135': 1,\n",
       " '188.255.88.63': 1,\n",
       " '111.246.115.129': 1,\n",
       " '157.245.231.113': 1,\n",
       " '162.243.133.65': 1}"
      ]
     },
     "execution_count": 28,
     "metadata": {},
     "output_type": "execute_result"
    }
   ],
   "source": [
    "# https://stackoverflow.com/a/55292813/1164295\n",
    "{k: d[k] for k in sorted(d, key=d.get, reverse=True)}"
   ]
  },
  {
   "cell_type": "markdown",
   "metadata": {},
   "source": [
    "## sort by IP address"
   ]
  },
  {
   "cell_type": "code",
   "execution_count": 29,
   "metadata": {},
   "outputs": [
    {
     "name": "stdout",
     "output_type": "stream",
     "text": [
      "\"0.0.0.0\": 6,\n",
      "\"1.10.141.248\": 4,\n",
      "\"1.10.141.254\": 10,\n",
      "\"1.251.0.135\": 4,\n",
      "\"8.36.123.218\": 1,\n",
      "\"14.98.4.82\": 59,\n",
      "\"14.186.46.148\": 2,\n",
      "\"23.95.89.71\": 11,\n",
      "\"27.3.9.57\": 1,\n",
      "\"31.13.131.138\": 1,\n",
      "\"31.223.251.10\": 1,\n",
      "\"34.74.196.104\": 148,\n",
      "\"36.90.212.84\": 1,\n",
      "\"36.155.113.40\": 84,\n",
      "\"37.49.226.19\": 136,\n",
      "\"37.252.189.70\": 40,\n",
      "\"40.83.125.50\": 85,\n",
      "\"41.38.206.180\": 2,\n",
      "\"41.92.108.110\": 1,\n",
      "\"42.159.201.45\": 42,\n",
      "\"45.67.14.21\": 2,\n",
      "\"45.83.66.227\": 1,\n",
      "\"45.95.168.247\": 18,\n",
      "\"45.95.168.251\": 18,\n",
      "\"45.120.69.97\": 113,\n",
      "\"49.88.112.69\": 2,\n",
      "\"49.88.112.72\": 2,\n",
      "\"49.231.182.35\": 77,\n",
      "\"51.15.99.106\": 97,\n",
      "\"51.77.212.235\": 32,\n",
      "\"51.91.102.49\": 1,\n",
      "\"51.91.140.218\": 45,\n",
      "\"52.186.168.121\": 18,\n",
      "\"58.11.27.198\": 1,\n",
      "\"58.150.46.6\": 139,\n",
      "\"61.19.146.226\": 25,\n",
      "\"61.78.107.61\": 5,\n",
      "\"61.187.53.119\": 147,\n",
      "\"65.49.20.67\": 1,\n",
      "\"65.49.20.68\": 1,\n",
      "\"71.6.232.6\": 1,\n",
      "\"71.244.214.232\": 10,\n",
      "\"79.137.72.121\": 36,\n",
      "\"80.82.64.124\": 8,\n",
      "\"83.97.20.31\": 1,\n",
      "\"88.146.200.8\": 1,\n",
      "\"88.251.163.3\": 1,\n",
      "\"89.248.174.3\": 1,\n",
      "\"89.248.174.151\": 2,\n",
      "\"92.118.161.41\": 1,\n",
      "\"92.222.36.74\": 5,\n",
      "\"93.155.216.135\": 1,\n",
      "\"94.39.208.238\": 4,\n",
      "\"95.85.12.122\": 1,\n",
      "\"101.231.154.154\": 4,\n",
      "\"103.4.217.138\": 5,\n",
      "\"103.16.223.243\": 145,\n",
      "\"103.26.40.145\": 122,\n",
      "\"103.99.155.250\": 2,\n",
      "\"103.120.115.140\": 1,\n",
      "\"103.220.205.198\": 1,\n",
      "\"104.244.75.191\": 2,\n",
      "\"106.12.155.45\": 145,\n",
      "\"106.13.4.250\": 138,\n",
      "\"106.13.48.122\": 1,\n",
      "\"106.124.131.194\": 135,\n",
      "\"107.174.233.133\": 4,\n",
      "\"110.49.142.46\": 144,\n",
      "\"110.171.217.225\": 1,\n",
      "\"111.229.167.10\": 101,\n",
      "\"111.246.115.129\": 1,\n",
      "\"111.253.97.158\": 1,\n",
      "\"112.85.42.94\": 10,\n",
      "\"114.24.130.110\": 4,\n",
      "\"114.67.100.234\": 1,\n",
      "\"115.42.127.133\": 144,\n",
      "\"117.33.253.49\": 5,\n",
      "\"118.24.2.218\": 130,\n",
      "\"118.24.9.152\": 136,\n",
      "\"118.174.65.2\": 15,\n",
      "\"119.241.34.33\": 1,\n",
      "\"121.122.40.109\": 146,\n",
      "\"123.201.14.14\": 3,\n",
      "\"124.88.37.161\": 145,\n",
      "\"124.143.128.150\": 1,\n",
      "\"125.227.255.79\": 73,\n",
      "\"129.226.161.114\": 146,\n",
      "\"132.145.242.238\": 145,\n",
      "\"134.209.100.26\": 5,\n",
      "\"138.68.59.56\": 14,\n",
      "\"138.68.106.62\": 122,\n",
      "\"139.59.58.115\": 148,\n",
      "\"139.162.75.112\": 1,\n",
      "\"139.162.122.110\": 3,\n",
      "\"141.98.9.137\": 12,\n",
      "\"141.98.9.156\": 9,\n",
      "\"141.98.9.157\": 12,\n",
      "\"141.98.9.159\": 9,\n",
      "\"141.98.9.160\": 12,\n",
      "\"141.98.9.161\": 12,\n",
      "\"141.98.81.37\": 48,\n",
      "\"141.98.81.38\": 100,\n",
      "\"141.98.81.81\": 12,\n",
      "\"141.98.81.83\": 9,\n",
      "\"141.98.81.84\": 12,\n",
      "\"141.98.81.99\": 9,\n",
      "\"141.98.81.107\": 9,\n",
      "\"141.98.81.108\": 12,\n",
      "\"144.217.207.15\": 3,\n",
      "\"145.255.31.52\": 5,\n",
      "\"148.0.191.142\": 1,\n",
      "\"148.70.32.179\": 115,\n",
      "\"149.129.103.50\": 1,\n",
      "\"152.136.36.250\": 146,\n",
      "\"157.131.112.116\": 4,\n",
      "\"157.230.163.6\": 14,\n",
      "\"157.230.208.92\": 141,\n",
      "\"157.245.79.243\": 9,\n",
      "\"157.245.104.96\": 10,\n",
      "\"157.245.231.113\": 1,\n",
      "\"159.65.54.221\": 15,\n",
      "\"162.243.128.180\": 1,\n",
      "\"162.243.133.65\": 1,\n",
      "\"164.68.112.178\": 2,\n",
      "\"165.227.30.198\": 187,\n",
      "\"167.99.152.121\": 12,\n",
      "\"168.227.201.202\": 24,\n",
      "\"171.25.193.25\": 1,\n",
      "\"171.239.52.209\": 1,\n",
      "\"176.236.195.194\": 1,\n",
      "\"177.141.123.20\": 1,\n",
      "\"177.152.16.45\": 124,\n",
      "\"177.185.217.16\": 2,\n",
      "\"178.32.92.81\": 1,\n",
      "\"179.106.64.134\": 1,\n",
      "\"181.188.176.141\": 1,\n",
      "\"182.75.216.74\": 82,\n",
      "\"183.129.141.30\": 146,\n",
      "\"183.129.141.44\": 54,\n",
      "\"183.220.146.254\": 20,\n",
      "\"184.22.75.96\": 1,\n",
      "\"184.82.27.25\": 5,\n",
      "\"185.88.26.26\": 1,\n",
      "\"185.202.1.164\": 5,\n",
      "\"185.202.1.240\": 2,\n",
      "\"186.91.70.18\": 1,\n",
      "\"187.37.205.24\": 2,\n",
      "\"188.255.88.63\": 1,\n",
      "\"189.4.28.99\": 140,\n",
      "\"189.35.82.136\": 5,\n",
      "\"190.57.160.161\": 1,\n",
      "\"192.99.56.117\": 15,\n",
      "\"192.241.239.116\": 1,\n",
      "\"192.241.239.192\": 1,\n",
      "\"193.70.37.133\": 100,\n",
      "\"193.142.146.21\": 4,\n",
      "\"194.184.198.62\": 5,\n",
      "\"195.70.59.121\": 64,\n",
      "\"195.154.199.139\": 1,\n",
      "\"196.52.43.63\": 1,\n",
      "\"196.52.43.85\": 1,\n",
      "\"197.231.70.61\": 4,\n",
      "\"198.199.112.219\": 96,\n",
      "\"198.199.122.234\": 142,\n",
      "\"200.0.236.210\": 40,\n",
      "\"201.57.40.70\": 146,\n",
      "\"202.43.164.162\": 15,\n",
      "\"202.131.69.18\": 22,\n",
      "\"203.185.4.41\": 2,\n",
      "\"207.180.244.29\": 122,\n",
      "\"209.97.133.196\": 132,\n",
      "\"212.51.148.162\": 19,\n",
      "\"212.112.108.73\": 13,\n",
      "\"213.32.120.155\": 5,\n",
      "\"217.146.86.154\": 1,\n",
      "\"218.89.250.77\": 246,\n",
      "\"219.147.205.227\": 42,\n",
      "\"222.140.6.8\": 1,\n",
      "\"222.186.15.10\": 54,\n",
      "\"222.186.15.62\": 34,\n",
      "\"222.186.15.114\": 32,\n",
      "\"222.186.15.115\": 40,\n",
      "\"222.186.15.158\": 38,\n",
      "\"222.186.30.35\": 40,\n",
      "\"222.186.30.57\": 44,\n",
      "\"222.186.30.76\": 58,\n",
      "\"222.186.30.112\": 47,\n",
      "\"222.186.30.167\": 47,\n",
      "\"222.186.30.218\": 58,\n",
      "\"222.186.30.248\": 7,\n",
      "\"222.186.31.83\": 52,\n",
      "\"222.186.31.166\": 71,\n",
      "\"222.186.42.7\": 46,\n",
      "\"222.186.42.75\": 18,\n",
      "\"222.186.42.136\": 31,\n",
      "\"222.186.42.137\": 50,\n",
      "\"222.186.42.155\": 34,\n",
      "\"222.186.52.39\": 34,\n",
      "\"222.186.52.139\": 19,\n",
      "\"222.186.175.23\": 29,\n",
      "\"222.186.180.130\": 49,\n",
      "\"222.186.180.142\": 52,\n",
      "\"222.186.190.14\": 63,\n"
     ]
    }
   ],
   "source": [
    "# https://www.python4networkengineers.com/posts/how_to_sort_ip_addresses_with_python/\n",
    "for ip in sorted(list(d.keys()), key = lambda ip: ( int(ip.split(\".\")[0]), \n",
    "                                    int(ip.split(\".\")[1]), \n",
    "                                    int(ip.split(\".\")[2]), \n",
    "                                    int(ip.split(\".\")[3]))):\n",
    "    print('\"' + ip + '\": ' + str(d[ip]) + ',')"
   ]
  },
  {
   "cell_type": "markdown",
   "metadata": {},
   "source": [
    "### append as column in df"
   ]
  },
  {
   "cell_type": "code",
   "execution_count": 30,
   "metadata": {},
   "outputs": [],
   "source": [
    "def extract_ip(msg):\n",
    "    res = re.findall('(25[0-5]|2[0-4][0-9]|1[0-9][0-9]|[1-9]?[0-9])\\.'+\n",
    "                     '(25[0-5]|2[0-4][0-9]|1[0-9][0-9]|[1-9]?[0-9])\\.'+\n",
    "                     '(25[0-5]|2[0-4][0-9]|1[0-9][0-9]|[1-9]?[0-9])\\.'+\n",
    "                     '(25[0-5]|2[0-4][0-9]|1[0-9][0-9]|[1-9]?[0-9])',msg)\n",
    "    if len(res)==0:\n",
    "        return None\n",
    "    elif len(res)==1:\n",
    "        return '.'.join(res[0])\n",
    "    else:\n",
    "        raise Exception(res)"
   ]
  },
  {
   "cell_type": "code",
   "execution_count": 31,
   "metadata": {},
   "outputs": [
    {
     "data": {
      "text/plain": [
       "'Server listening on 0.0.0.0 port 22.'"
      ]
     },
     "execution_count": 31,
     "metadata": {},
     "output_type": "execute_result"
    }
   ],
   "source": [
    "df['message'][3]"
   ]
  },
  {
   "cell_type": "code",
   "execution_count": 32,
   "metadata": {},
   "outputs": [],
   "source": [
    "df['ip'] = df['message'].apply(extract_ip)"
   ]
  },
  {
   "cell_type": "code",
   "execution_count": 33,
   "metadata": {},
   "outputs": [
    {
     "data": {
      "text/html": [
       "<div>\n",
       "<style scoped>\n",
       "    .dataframe tbody tr th:only-of-type {\n",
       "        vertical-align: middle;\n",
       "    }\n",
       "\n",
       "    .dataframe tbody tr th {\n",
       "        vertical-align: top;\n",
       "    }\n",
       "\n",
       "    .dataframe thead th {\n",
       "        text-align: right;\n",
       "    }\n",
       "</style>\n",
       "<table border=\"1\" class=\"dataframe\">\n",
       "  <thead>\n",
       "    <tr style=\"text-align: right;\">\n",
       "      <th></th>\n",
       "      <th>message</th>\n",
       "      <th>pid</th>\n",
       "      <th>server name</th>\n",
       "      <th>service name</th>\n",
       "      <th>datetime</th>\n",
       "      <th>username</th>\n",
       "      <th>ip</th>\n",
       "    </tr>\n",
       "  </thead>\n",
       "  <tbody>\n",
       "    <tr>\n",
       "      <th>0</th>\n",
       "      <td>Watching system buttons on /dev/input/event0 (...</td>\n",
       "      <td>854</td>\n",
       "      <td>django-s-1vcpu-1gb-sfo2-01</td>\n",
       "      <td>systemd-logind</td>\n",
       "      <td>2020-04-06 18:58:00</td>\n",
       "      <td>None</td>\n",
       "      <td>None</td>\n",
       "    </tr>\n",
       "    <tr>\n",
       "      <th>1</th>\n",
       "      <td>Watching system buttons on /dev/input/event1 (...</td>\n",
       "      <td>854</td>\n",
       "      <td>django-s-1vcpu-1gb-sfo2-01</td>\n",
       "      <td>systemd-logind</td>\n",
       "      <td>2020-04-06 18:58:00</td>\n",
       "      <td>None</td>\n",
       "      <td>None</td>\n",
       "    </tr>\n",
       "    <tr>\n",
       "      <th>2</th>\n",
       "      <td>New seat seat0.</td>\n",
       "      <td>854</td>\n",
       "      <td>django-s-1vcpu-1gb-sfo2-01</td>\n",
       "      <td>systemd-logind</td>\n",
       "      <td>2020-04-06 18:58:00</td>\n",
       "      <td>None</td>\n",
       "      <td>None</td>\n",
       "    </tr>\n",
       "    <tr>\n",
       "      <th>3</th>\n",
       "      <td>Server listening on 0.0.0.0 port 22.</td>\n",
       "      <td>1062</td>\n",
       "      <td>django-s-1vcpu-1gb-sfo2-01</td>\n",
       "      <td>sshd</td>\n",
       "      <td>2020-04-06 18:58:01</td>\n",
       "      <td>None</td>\n",
       "      <td>0.0.0.0</td>\n",
       "    </tr>\n",
       "    <tr>\n",
       "      <th>4</th>\n",
       "      <td>Server listening on :: port 22.</td>\n",
       "      <td>1062</td>\n",
       "      <td>django-s-1vcpu-1gb-sfo2-01</td>\n",
       "      <td>sshd</td>\n",
       "      <td>2020-04-06 18:58:01</td>\n",
       "      <td>None</td>\n",
       "      <td>None</td>\n",
       "    </tr>\n",
       "  </tbody>\n",
       "</table>\n",
       "</div>"
      ],
      "text/plain": [
       "                                             message   pid  \\\n",
       "0  Watching system buttons on /dev/input/event0 (...   854   \n",
       "1  Watching system buttons on /dev/input/event1 (...   854   \n",
       "2                                    New seat seat0.   854   \n",
       "3               Server listening on 0.0.0.0 port 22.  1062   \n",
       "4                    Server listening on :: port 22.  1062   \n",
       "\n",
       "                  server name    service name            datetime username  \\\n",
       "0  django-s-1vcpu-1gb-sfo2-01  systemd-logind 2020-04-06 18:58:00     None   \n",
       "1  django-s-1vcpu-1gb-sfo2-01  systemd-logind 2020-04-06 18:58:00     None   \n",
       "2  django-s-1vcpu-1gb-sfo2-01  systemd-logind 2020-04-06 18:58:00     None   \n",
       "3  django-s-1vcpu-1gb-sfo2-01            sshd 2020-04-06 18:58:01     None   \n",
       "4  django-s-1vcpu-1gb-sfo2-01            sshd 2020-04-06 18:58:01     None   \n",
       "\n",
       "        ip  \n",
       "0     None  \n",
       "1     None  \n",
       "2     None  \n",
       "3  0.0.0.0  \n",
       "4     None  "
      ]
     },
     "execution_count": 33,
     "metadata": {},
     "output_type": "execute_result"
    }
   ],
   "source": [
    "df.head()"
   ]
  },
  {
   "cell_type": "markdown",
   "metadata": {},
   "source": [
    "# IP to geo using lookup table\n",
    "data is from https://github.com/datasets/geoip2-ipv4/blob/master/data/geoip2-ipv4.csv\n",
    "\n",
    "column definitions are at https://dev.maxmind.com/geoip/geoip2/geoip2-city-country-csv-databases/"
   ]
  },
  {
   "cell_type": "code",
   "execution_count": 34,
   "metadata": {},
   "outputs": [],
   "source": [
    "geoip_df = pandas.read_csv('geoip2-ipv4.txt')"
   ]
  },
  {
   "cell_type": "code",
   "execution_count": 35,
   "metadata": {},
   "outputs": [
    {
     "data": {
      "text/plain": [
       "(172754, 8)"
      ]
     },
     "execution_count": 35,
     "metadata": {},
     "output_type": "execute_result"
    }
   ],
   "source": [
    "geoip_df.shape"
   ]
  },
  {
   "cell_type": "code",
   "execution_count": 36,
   "metadata": {},
   "outputs": [
    {
     "data": {
      "text/html": [
       "<div>\n",
       "<style scoped>\n",
       "    .dataframe tbody tr th:only-of-type {\n",
       "        vertical-align: middle;\n",
       "    }\n",
       "\n",
       "    .dataframe tbody tr th {\n",
       "        vertical-align: top;\n",
       "    }\n",
       "\n",
       "    .dataframe thead th {\n",
       "        text-align: right;\n",
       "    }\n",
       "</style>\n",
       "<table border=\"1\" class=\"dataframe\">\n",
       "  <thead>\n",
       "    <tr style=\"text-align: right;\">\n",
       "      <th></th>\n",
       "      <th>network</th>\n",
       "      <th>geoname_id</th>\n",
       "      <th>continent_code</th>\n",
       "      <th>continent_name</th>\n",
       "      <th>country_iso_code</th>\n",
       "      <th>country_name</th>\n",
       "      <th>is_anonymous_proxy</th>\n",
       "      <th>is_satellite_provider</th>\n",
       "    </tr>\n",
       "  </thead>\n",
       "  <tbody>\n",
       "    <tr>\n",
       "      <th>0</th>\n",
       "      <td>41.74.160.0/20</td>\n",
       "      <td>49518.0</td>\n",
       "      <td>AF</td>\n",
       "      <td>Africa</td>\n",
       "      <td>RW</td>\n",
       "      <td>Rwanda</td>\n",
       "      <td>0</td>\n",
       "      <td>0</td>\n",
       "    </tr>\n",
       "    <tr>\n",
       "      <th>1</th>\n",
       "      <td>41.77.160.0/22</td>\n",
       "      <td>49518.0</td>\n",
       "      <td>AF</td>\n",
       "      <td>Africa</td>\n",
       "      <td>RW</td>\n",
       "      <td>Rwanda</td>\n",
       "      <td>0</td>\n",
       "      <td>0</td>\n",
       "    </tr>\n",
       "    <tr>\n",
       "      <th>2</th>\n",
       "      <td>41.138.80.0/21</td>\n",
       "      <td>49518.0</td>\n",
       "      <td>AF</td>\n",
       "      <td>Africa</td>\n",
       "      <td>RW</td>\n",
       "      <td>Rwanda</td>\n",
       "      <td>0</td>\n",
       "      <td>0</td>\n",
       "    </tr>\n",
       "    <tr>\n",
       "      <th>3</th>\n",
       "      <td>41.186.0.0/16</td>\n",
       "      <td>49518.0</td>\n",
       "      <td>AF</td>\n",
       "      <td>Africa</td>\n",
       "      <td>RW</td>\n",
       "      <td>Rwanda</td>\n",
       "      <td>0</td>\n",
       "      <td>0</td>\n",
       "    </tr>\n",
       "    <tr>\n",
       "      <th>4</th>\n",
       "      <td>41.197.0.0/16</td>\n",
       "      <td>49518.0</td>\n",
       "      <td>AF</td>\n",
       "      <td>Africa</td>\n",
       "      <td>RW</td>\n",
       "      <td>Rwanda</td>\n",
       "      <td>0</td>\n",
       "      <td>0</td>\n",
       "    </tr>\n",
       "  </tbody>\n",
       "</table>\n",
       "</div>"
      ],
      "text/plain": [
       "          network  geoname_id continent_code continent_name country_iso_code  \\\n",
       "0  41.74.160.0/20     49518.0             AF         Africa               RW   \n",
       "1  41.77.160.0/22     49518.0             AF         Africa               RW   \n",
       "2  41.138.80.0/21     49518.0             AF         Africa               RW   \n",
       "3   41.186.0.0/16     49518.0             AF         Africa               RW   \n",
       "4   41.197.0.0/16     49518.0             AF         Africa               RW   \n",
       "\n",
       "  country_name  is_anonymous_proxy  is_satellite_provider  \n",
       "0       Rwanda                   0                      0  \n",
       "1       Rwanda                   0                      0  \n",
       "2       Rwanda                   0                      0  \n",
       "3       Rwanda                   0                      0  \n",
       "4       Rwanda                   0                      0  "
      ]
     },
     "execution_count": 36,
     "metadata": {},
     "output_type": "execute_result"
    }
   ],
   "source": [
    "geoip_df.head()"
   ]
  },
  {
   "cell_type": "markdown",
   "metadata": {},
   "source": [
    "to convert geoname to location, see\n",
    "\n",
    "https://download.geonames.org/export/dump/\n",
    "    \n",
    "as per https://github.com/maxmind/GeoIP2-java/issues/103"
   ]
  },
  {
   "cell_type": "markdown",
   "metadata": {},
   "source": [
    "## space-time trade-off: \n",
    "## search through all the permutations (CPU intensive) or store a lookup table in memory?"
   ]
  },
  {
   "cell_type": "markdown",
   "metadata": {},
   "source": [
    "the brute force search would take too long"
   ]
  },
  {
   "cell_type": "code",
   "execution_count": 37,
   "metadata": {},
   "outputs": [
    {
     "data": {
      "text/plain": [
       "True"
      ]
     },
     "execution_count": 37,
     "metadata": {},
     "output_type": "execute_result"
    }
   ],
   "source": [
    "ipaddress.IPv4Address('192.0.2.6') in ipaddress.IPv4Network('192.0.2.0/28')"
   ]
  },
  {
   "cell_type": "markdown",
   "metadata": {},
   "source": [
    "running the following for the full data set would consume more memory than my computer has :("
   ]
  },
  {
   "cell_type": "code",
   "execution_count": 38,
   "metadata": {},
   "outputs": [
    {
     "name": "stdout",
     "output_type": "stream",
     "text": [
      "elapsed 5.28 seconds\n"
     ]
    }
   ],
   "source": [
    "start_time = time.time()\n",
    "ip_as_int_and_geoname_id = {}\n",
    "for index, row in geoip_df.iloc[0:10].iterrows():\n",
    "    #print(row['network'],row['geoname_id'])\n",
    "    for addr in ipaddress.IPv4Network(row['network']):\n",
    "        ip_as_int_and_geoname_id[int(addr)] = row['country_name']#row['geoname_id']\n",
    "print('elapsed',round(time.time() - start_time,2),'seconds')"
   ]
  },
  {
   "cell_type": "code",
   "execution_count": 39,
   "metadata": {},
   "outputs": [
    {
     "data": {
      "text/plain": [
       "147456"
      ]
     },
     "execution_count": 39,
     "metadata": {},
     "output_type": "execute_result"
    }
   ],
   "source": [
    "len(ip_as_int_and_geoname_id)"
   ]
  },
  {
   "cell_type": "code",
   "execution_count": 40,
   "metadata": {},
   "outputs": [
    {
     "data": {
      "text/plain": [
       "5.000091552734375"
      ]
     },
     "execution_count": 40,
     "metadata": {},
     "output_type": "execute_result"
    }
   ],
   "source": [
    "# https://docs.python.org/3/library/sys.html#sys.getsizeof\n",
    "# Returns the size of an object in bytes\n",
    "sys.getsizeof(ip_as_int_and_geoname_id)/(1024*1024)"
   ]
  },
  {
   "cell_type": "code",
   "execution_count": 41,
   "metadata": {},
   "outputs": [
    {
     "data": {
      "text/plain": [
       "55.355018615722656"
      ]
     },
     "execution_count": 41,
     "metadata": {},
     "output_type": "execute_result"
    }
   ],
   "source": [
    "sys.getsizeof(geoip_df)/(1024*1024)"
   ]
  },
  {
   "cell_type": "markdown",
   "metadata": {},
   "source": [
    "## decrease granularity and increase likelihood of misattribution\n",
    "\n",
    "This wasn't successful. \n",
    "\n",
    "I tried both \"first two octets\" (which yield a bunch of countries per IP) and \"first three octets\" (which yielded very few matches)"
   ]
  },
  {
   "cell_type": "raw",
   "metadata": {},
   "source": [
    "start_time = time.time()\n",
    "country_to_first_octets = {}\n",
    "#for indx, row in geoip_df.iloc[0:3].iterrows():\n",
    "for indx, row in geoip_df.iterrows():\n",
    "    # 52 seconds for first two octets\n",
    "#    first_octets = '.'.join(row['network'].split('.')[0:2])\n",
    "    first_octets = '.'.join(row['network'].split('.')[0:3])\n",
    "    try:\n",
    "        country_to_first_octets[row['country_name']]\n",
    "    except KeyError:\n",
    "        country_to_first_octets[row['country_name']]=[]\n",
    "    country_to_first_octets[row['country_name']].append(first_octets)\n",
    "print('elapsed',round(time.time() - start_time,2),'seconds')"
   ]
  },
  {
   "cell_type": "raw",
   "metadata": {},
   "source": [
    "len(country_to_first_octets.keys())"
   ]
  },
  {
   "cell_type": "raw",
   "metadata": {},
   "source": [
    "\n",
    "for ip, num_hits in d.items():\n",
    "    first_oct = '.'.join(ip.split('.')[0:3])\n",
    "#        print(first_two)\n",
    "    for country, list_of_first_octets in country_to_first_octets.items():\n",
    "        if first_oct in list_of_first_octets:\n",
    "            print(ip, num_hits, country)"
   ]
  },
  {
   "cell_type": "markdown",
   "metadata": {},
   "source": [
    "## use a library"
   ]
  },
  {
   "cell_type": "code",
   "execution_count": 42,
   "metadata": {},
   "outputs": [],
   "source": [
    "def get_country(ip):\n",
    "#    ip_as_bytes = bytes(ip, 'ascii')\n",
    "    match = geolite2.lookup(ip)\n",
    "    print(match)\n",
    "    if match:\n",
    "        return match.country\n",
    "    else:\n",
    "        return None"
   ]
  },
  {
   "cell_type": "raw",
   "metadata": {},
   "source": [
    "bytes('103.26.40.145', 'ascii')"
   ]
  },
  {
   "cell_type": "raw",
   "metadata": {},
   "source": [
    "'103.26.40.145'.encode('utf-8')"
   ]
  },
  {
   "cell_type": "code",
   "execution_count": 43,
   "metadata": {},
   "outputs": [
    {
     "name": "stdout",
     "output_type": "stream",
     "text": [
      "<IPInfo ip='103.26.40.145' country='SG' continent='AS' subdivisions=frozenset() timezone='Asia/Singapore' location=(1.3667, 103.8)>\n"
     ]
    },
    {
     "data": {
      "text/plain": [
       "'SG'"
      ]
     },
     "execution_count": 43,
     "metadata": {},
     "output_type": "execute_result"
    }
   ],
   "source": [
    "get_country('103.26.40.145')"
   ]
  },
  {
   "cell_type": "markdown",
   "metadata": {},
   "source": [
    "download country code lookup table from https://dev.maxmind.com/geoip/legacy/codes/iso3166/\n",
    "\n",
    "https://dev.maxmind.com/static/csv/codes/iso3166.csv"
   ]
  },
  {
   "cell_type": "code",
   "execution_count": 44,
   "metadata": {},
   "outputs": [
    {
     "data": {
      "text/plain": [
       "(254, 2)"
      ]
     },
     "execution_count": 44,
     "metadata": {},
     "output_type": "execute_result"
    }
   ],
   "source": [
    "country_code_df = pandas.read_csv('iso3166.csv', header=None, names=['country code', 'name'])\n",
    "country_code_df.shape"
   ]
  },
  {
   "cell_type": "code",
   "execution_count": 45,
   "metadata": {},
   "outputs": [
    {
     "data": {
      "text/html": [
       "<div>\n",
       "<style scoped>\n",
       "    .dataframe tbody tr th:only-of-type {\n",
       "        vertical-align: middle;\n",
       "    }\n",
       "\n",
       "    .dataframe tbody tr th {\n",
       "        vertical-align: top;\n",
       "    }\n",
       "\n",
       "    .dataframe thead th {\n",
       "        text-align: right;\n",
       "    }\n",
       "</style>\n",
       "<table border=\"1\" class=\"dataframe\">\n",
       "  <thead>\n",
       "    <tr style=\"text-align: right;\">\n",
       "      <th></th>\n",
       "      <th>country code</th>\n",
       "      <th>name</th>\n",
       "    </tr>\n",
       "  </thead>\n",
       "  <tbody>\n",
       "    <tr>\n",
       "      <th>0</th>\n",
       "      <td>A1</td>\n",
       "      <td>Anonymous Proxy</td>\n",
       "    </tr>\n",
       "    <tr>\n",
       "      <th>1</th>\n",
       "      <td>A2</td>\n",
       "      <td>Satellite Provider</td>\n",
       "    </tr>\n",
       "    <tr>\n",
       "      <th>2</th>\n",
       "      <td>O1</td>\n",
       "      <td>Other Country</td>\n",
       "    </tr>\n",
       "    <tr>\n",
       "      <th>3</th>\n",
       "      <td>AD</td>\n",
       "      <td>Andorra</td>\n",
       "    </tr>\n",
       "    <tr>\n",
       "      <th>4</th>\n",
       "      <td>AE</td>\n",
       "      <td>United Arab Emirates</td>\n",
       "    </tr>\n",
       "  </tbody>\n",
       "</table>\n",
       "</div>"
      ],
      "text/plain": [
       "  country code                  name\n",
       "0           A1       Anonymous Proxy\n",
       "1           A2    Satellite Provider\n",
       "2           O1         Other Country\n",
       "3           AD               Andorra\n",
       "4           AE  United Arab Emirates"
      ]
     },
     "execution_count": 45,
     "metadata": {},
     "output_type": "execute_result"
    }
   ],
   "source": [
    "country_code_df.head()"
   ]
  },
  {
   "cell_type": "code",
   "execution_count": 46,
   "metadata": {},
   "outputs": [
    {
     "data": {
      "text/plain": [
       "'Singapore'"
      ]
     },
     "execution_count": 46,
     "metadata": {},
     "output_type": "execute_result"
    }
   ],
   "source": [
    "country_code_df[country_code_df['country code']=='SG']['name'].values[0]"
   ]
  },
  {
   "cell_type": "code",
   "execution_count": 47,
   "metadata": {},
   "outputs": [],
   "source": [
    "def get_country(ip):\n",
    "    match = geolite2.lookup(ip)\n",
    "    if match:\n",
    "        return country_code_df[country_code_df['country code']==match.country]['name'].values[0]\n",
    "    else:\n",
    "        return None"
   ]
  },
  {
   "cell_type": "code",
   "execution_count": 48,
   "metadata": {},
   "outputs": [
    {
     "data": {
      "text/plain": [
       "'Singapore'"
      ]
     },
     "execution_count": 48,
     "metadata": {},
     "output_type": "execute_result"
    }
   ],
   "source": [
    "get_country('103.26.40.145')"
   ]
  },
  {
   "cell_type": "code",
   "execution_count": 49,
   "metadata": {},
   "outputs": [],
   "source": [
    "def country_if_ip(ip):\n",
    "    if ip:\n",
    "        return get_country(ip)\n",
    "    else:\n",
    "        return None"
   ]
  },
  {
   "cell_type": "code",
   "execution_count": 50,
   "metadata": {},
   "outputs": [],
   "source": [
    "df['country'] = df['ip'].apply(country_if_ip)"
   ]
  },
  {
   "cell_type": "code",
   "execution_count": 52,
   "metadata": {},
   "outputs": [
    {
     "data": {
      "text/html": [
       "<div>\n",
       "<style scoped>\n",
       "    .dataframe tbody tr th:only-of-type {\n",
       "        vertical-align: middle;\n",
       "    }\n",
       "\n",
       "    .dataframe tbody tr th {\n",
       "        vertical-align: top;\n",
       "    }\n",
       "\n",
       "    .dataframe thead th {\n",
       "        text-align: right;\n",
       "    }\n",
       "</style>\n",
       "<table border=\"1\" class=\"dataframe\">\n",
       "  <thead>\n",
       "    <tr style=\"text-align: right;\">\n",
       "      <th></th>\n",
       "      <th>message</th>\n",
       "      <th>pid</th>\n",
       "      <th>server name</th>\n",
       "      <th>service name</th>\n",
       "      <th>datetime</th>\n",
       "      <th>username</th>\n",
       "      <th>ip</th>\n",
       "      <th>country</th>\n",
       "    </tr>\n",
       "  </thead>\n",
       "  <tbody>\n",
       "    <tr>\n",
       "      <th>11</th>\n",
       "      <td>Failed password for root from 200.0.236.210 po...</td>\n",
       "      <td>1709</td>\n",
       "      <td>django-s-1vcpu-1gb-sfo2-01</td>\n",
       "      <td>sshd</td>\n",
       "      <td>2020-04-06 18:58:38</td>\n",
       "      <td>root</td>\n",
       "      <td>200.0.236.210</td>\n",
       "      <td>Argentina</td>\n",
       "    </tr>\n",
       "    <tr>\n",
       "      <th>14</th>\n",
       "      <td>Invalid user ubuntu from 111.229.167.10 port 3...</td>\n",
       "      <td>1717</td>\n",
       "      <td>django-s-1vcpu-1gb-sfo2-01</td>\n",
       "      <td>sshd</td>\n",
       "      <td>2020-04-06 18:58:49</td>\n",
       "      <td>ubuntu</td>\n",
       "      <td>111.229.167.10</td>\n",
       "      <td>China</td>\n",
       "    </tr>\n",
       "    <tr>\n",
       "      <th>17</th>\n",
       "      <td>Failed password for invalid user ubuntu from 1...</td>\n",
       "      <td>1717</td>\n",
       "      <td>django-s-1vcpu-1gb-sfo2-01</td>\n",
       "      <td>sshd</td>\n",
       "      <td>2020-04-06 18:58:51</td>\n",
       "      <td>ubuntu</td>\n",
       "      <td>111.229.167.10</td>\n",
       "      <td>China</td>\n",
       "    </tr>\n",
       "    <tr>\n",
       "      <th>30</th>\n",
       "      <td>Failed password for root from 37.252.189.70 po...</td>\n",
       "      <td>2121</td>\n",
       "      <td>django-s-1vcpu-1gb-sfo2-01</td>\n",
       "      <td>sshd</td>\n",
       "      <td>2020-04-06 19:00:06</td>\n",
       "      <td>root</td>\n",
       "      <td>37.252.189.70</td>\n",
       "      <td>Austria</td>\n",
       "    </tr>\n",
       "    <tr>\n",
       "      <th>34</th>\n",
       "      <td>Failed password for root from 79.137.72.121 po...</td>\n",
       "      <td>3730</td>\n",
       "      <td>django-s-1vcpu-1gb-sfo2-01</td>\n",
       "      <td>sshd</td>\n",
       "      <td>2020-04-06 19:00:32</td>\n",
       "      <td>root</td>\n",
       "      <td>79.137.72.121</td>\n",
       "      <td>Italy</td>\n",
       "    </tr>\n",
       "  </tbody>\n",
       "</table>\n",
       "</div>"
      ],
      "text/plain": [
       "                                              message   pid  \\\n",
       "11  Failed password for root from 200.0.236.210 po...  1709   \n",
       "14  Invalid user ubuntu from 111.229.167.10 port 3...  1717   \n",
       "17  Failed password for invalid user ubuntu from 1...  1717   \n",
       "30  Failed password for root from 37.252.189.70 po...  2121   \n",
       "34  Failed password for root from 79.137.72.121 po...  3730   \n",
       "\n",
       "                   server name service name            datetime username  \\\n",
       "11  django-s-1vcpu-1gb-sfo2-01         sshd 2020-04-06 18:58:38     root   \n",
       "14  django-s-1vcpu-1gb-sfo2-01         sshd 2020-04-06 18:58:49   ubuntu   \n",
       "17  django-s-1vcpu-1gb-sfo2-01         sshd 2020-04-06 18:58:51   ubuntu   \n",
       "30  django-s-1vcpu-1gb-sfo2-01         sshd 2020-04-06 19:00:06     root   \n",
       "34  django-s-1vcpu-1gb-sfo2-01         sshd 2020-04-06 19:00:32     root   \n",
       "\n",
       "                ip    country  \n",
       "11   200.0.236.210  Argentina  \n",
       "14  111.229.167.10      China  \n",
       "17  111.229.167.10      China  \n",
       "30   37.252.189.70    Austria  \n",
       "34   79.137.72.121      Italy  "
      ]
     },
     "execution_count": 52,
     "metadata": {},
     "output_type": "execute_result"
    }
   ],
   "source": [
    "df[df['username'].notnull()].head()"
   ]
  },
  {
   "cell_type": "code",
   "execution_count": 56,
   "metadata": {},
   "outputs": [
    {
     "data": {
      "text/plain": [
       "China                 2784\n",
       "United States         1881\n",
       "Brazil                 421\n",
       "Thailand               282\n",
       "United Kingdom         176\n",
       "Indonesia              161\n",
       "Korea, Republic of     148\n",
       "Australia              148\n",
       "Netherlands            148\n",
       "Malaysia               147\n",
       "Name: country, dtype: int64"
      ]
     },
     "execution_count": 56,
     "metadata": {},
     "output_type": "execute_result"
    }
   ],
   "source": [
    "df['country'].value_counts().head(10)"
   ]
  },
  {
   "cell_type": "code",
   "execution_count": null,
   "metadata": {},
   "outputs": [],
   "source": []
  }
 ],
 "metadata": {
  "kernelspec": {
   "display_name": "Python 3",
   "language": "python",
   "name": "python3"
  },
  "language_info": {
   "codemirror_mode": {
    "name": "ipython",
    "version": 3
   },
   "file_extension": ".py",
   "mimetype": "text/x-python",
   "name": "python",
   "nbconvert_exporter": "python",
   "pygments_lexer": "ipython3",
   "version": "3.6.6"
  }
 },
 "nbformat": 4,
 "nbformat_minor": 2
}
