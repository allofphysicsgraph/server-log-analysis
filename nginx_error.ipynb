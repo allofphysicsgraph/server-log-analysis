{
 "cells": [
  {
   "cell_type": "code",
   "execution_count": null,
   "metadata": {},
   "outputs": [],
   "source": []
  },
  {
   "cell_type": "code",
   "execution_count": null,
   "metadata": {},
   "outputs": [],
   "source": []
  },
  {
   "cell_type": "markdown",
   "metadata": {},
   "source": [
    "data collected April 25, 2020 on a DigitalOcean droplet running Ubuntu 18.04"
   ]
  },
  {
   "cell_type": "code",
   "execution_count": 1,
   "metadata": {},
   "outputs": [
    {
     "name": "stdout",
     "output_type": "stream",
     "text": [
      "Requirement already satisfied: python-geoip-geolite2 in /opt/conda/lib/python3.6/site-packages (2015.303)\n",
      "Requirement already satisfied: python-geoip in /opt/conda/lib/python3.6/site-packages (from python-geoip-geolite2) (1.2)\n",
      "Requirement already satisfied: python-geoip-python3 in /opt/conda/lib/python3.6/site-packages (1.3)\n"
     ]
    }
   ],
   "source": [
    "# the order of installation matters for these two :(\n",
    "!pip install python-geoip-geolite2\n",
    "!pip install python-geoip-python3"
   ]
  },
  {
   "cell_type": "code",
   "execution_count": 2,
   "metadata": {},
   "outputs": [
    {
     "name": "stdout",
     "output_type": "stream",
     "text": [
      "pandas 0.23.4\n",
      "3.6.6 | packaged by conda-forge | (default, Oct 12 2018, 14:08:43) \n",
      "[GCC 4.8.2 20140120 (Red Hat 4.8.2-15)]\n"
     ]
    }
   ],
   "source": [
    "import pandas\n",
    "print('pandas',pandas.__version__)\n",
    "import re\n",
    "import time\n",
    "from geoip import geolite2 # https://pythonhosted.org/python-geoip/\n",
    "import sys\n",
    "print(sys.version)\n",
    "import matplotlib.pyplot as plt\n",
    "\n",
    "\n"
   ]
  },
  {
   "cell_type": "code",
   "execution_count": 3,
   "metadata": {},
   "outputs": [],
   "source": [
    "# https://stackoverflow.com/questions/30700166/python-open-file-error\n",
    "with open('nginx_error.log','r', errors = 'ignore') as f:\n",
    "    lines = f.readlines()"
   ]
  },
  {
   "cell_type": "code",
   "execution_count": 4,
   "metadata": {},
   "outputs": [
    {
     "data": {
      "text/plain": [
       "['2020/04/25 21:26:56 [info] 6#6: *29 client 162.129.252.228 closed keepalive connection\\n',\n",
       " '2020/04/25 21:26:56 [info] 6#6: *25 client 162.129.252.228 closed keepalive connection\\n',\n",
       " '2020/04/25 21:26:56 [info] 6#6: *26 client 162.129.252.228 closed keepalive connection\\n',\n",
       " '2020/04/25 21:26:56 [info] 6#6: *22 client 162.129.252.228 closed keepalive connection\\n',\n",
       " '2020/04/25 21:36:05 [info] 6#6: *22 client closed connection while waiting for request, client: 96.245.195.226, server: 0.0.0.0:80\\n',\n",
       " '2020/04/25 21:36:36 [info] 6#6: *45 client closed connection while waiting for request, client: 96.245.195.226, server: 0.0.0.0:80\\n',\n",
       " '2020/04/25 21:36:41 [info] 6#6: *61 client closed connection while waiting for request, client: 96.245.195.226, server: 0.0.0.0:80\\n',\n",
       " '2020/04/25 21:36:48 [info] 6#6: *65 client closed connection while waiting for request, client: 96.245.195.226, server: 0.0.0.0:80\\n',\n",
       " '2020/04/25 21:37:01 [info] 6#6: *67 client closed connection while waiting for request, client: 96.245.195.226, server: 0.0.0.0:80\\n',\n",
       " '2020/04/25 21:37:06 [info] 6#6: *75 client closed connection while waiting for request, client: 96.245.195.226, server: 0.0.0.0:80\\n']"
      ]
     },
     "execution_count": 4,
     "metadata": {},
     "output_type": "execute_result"
    }
   ],
   "source": [
    "lines[0:10]"
   ]
  },
  {
   "cell_type": "code",
   "execution_count": 5,
   "metadata": {},
   "outputs": [],
   "source": [
    "list_of_dicts = []\n",
    "for indx, line in enumerate(lines):\n",
    "    line_as_dict = {}\n",
    "    line_as_list = line.split(' ')\n",
    "    line_as_dict['date time'] = ' '.join(line_as_list[0:2])\n",
    "    line_as_dict['msg type'] = line_as_list[2].replace('[','').replace(']','')\n",
    "    # https://stackoverflow.com/a/26125951/1164295\n",
    "    msg = line_as_list[3:]\n",
    "    line_as_dict['proc id'] = msg[0].split('#')[0]\n",
    "    line_as_dict['thread id'] = msg[0].split('#')[1].replace(':','')\n",
    "    if msg[1].startswith('*'):\n",
    "        line_as_dict['cid'] = msg[1].replace('*','')\n",
    "        msg_text = ' '.join(msg[2:]).strip()\n",
    "    else:\n",
    "        msg_text = ' '.join(msg[1:]).strip()\n",
    "    #print(msg_text.split(', '))\n",
    "    unparsed_text = ''\n",
    "    for this_text in msg_text.split(', '):\n",
    "        if this_text.startswith('request: '):\n",
    "            line_as_dict['request'] = this_text.replace('request: ','')\n",
    "        elif this_text.startswith('server: '):\n",
    "            line_as_dict['server'] = this_text.replace('server: ','')\n",
    "        elif this_text.startswith('client: '):\n",
    "            line_as_dict['client'] = this_text.replace('client: ','')\n",
    "        else:\n",
    "            unparsed_text += this_text\n",
    "    line_as_dict['unparsed text'] = unparsed_text\n",
    "    \n",
    "    list_of_dicts.append(line_as_dict)"
   ]
  },
  {
   "cell_type": "code",
   "execution_count": 6,
   "metadata": {},
   "outputs": [
    {
     "data": {
      "text/plain": [
       "(412, 9)"
      ]
     },
     "execution_count": 6,
     "metadata": {},
     "output_type": "execute_result"
    }
   ],
   "source": [
    "df = pandas.DataFrame(list_of_dicts)\n",
    "df.shape"
   ]
  },
  {
   "cell_type": "code",
   "execution_count": 7,
   "metadata": {},
   "outputs": [],
   "source": [
    "# https://strftime.org/\n",
    "df['datetime'] = pandas.to_datetime(df['date time'], format='%Y/%m/%d %H:%M:%S')\n",
    "# https://pandas.pydata.org/pandas-docs/stable/reference/api/pandas.DataFrame.drop.html\n",
    "df.drop('date time', inplace=True, axis=1)"
   ]
  },
  {
   "cell_type": "code",
   "execution_count": 8,
   "metadata": {},
   "outputs": [
    {
     "data": {
      "text/html": [
       "<div>\n",
       "<style scoped>\n",
       "    .dataframe tbody tr th:only-of-type {\n",
       "        vertical-align: middle;\n",
       "    }\n",
       "\n",
       "    .dataframe tbody tr th {\n",
       "        vertical-align: top;\n",
       "    }\n",
       "\n",
       "    .dataframe thead th {\n",
       "        text-align: right;\n",
       "    }\n",
       "</style>\n",
       "<table border=\"1\" class=\"dataframe\">\n",
       "  <thead>\n",
       "    <tr style=\"text-align: right;\">\n",
       "      <th></th>\n",
       "      <th>cid</th>\n",
       "      <th>client</th>\n",
       "      <th>msg type</th>\n",
       "      <th>proc id</th>\n",
       "      <th>request</th>\n",
       "      <th>server</th>\n",
       "      <th>thread id</th>\n",
       "      <th>unparsed text</th>\n",
       "      <th>datetime</th>\n",
       "    </tr>\n",
       "  </thead>\n",
       "  <tbody>\n",
       "    <tr>\n",
       "      <th>0</th>\n",
       "      <td>29</td>\n",
       "      <td>NaN</td>\n",
       "      <td>info</td>\n",
       "      <td>6</td>\n",
       "      <td>NaN</td>\n",
       "      <td>NaN</td>\n",
       "      <td>6</td>\n",
       "      <td>client 162.129.252.228 closed keepalive connec...</td>\n",
       "      <td>2020-04-25 21:26:56</td>\n",
       "    </tr>\n",
       "    <tr>\n",
       "      <th>1</th>\n",
       "      <td>25</td>\n",
       "      <td>NaN</td>\n",
       "      <td>info</td>\n",
       "      <td>6</td>\n",
       "      <td>NaN</td>\n",
       "      <td>NaN</td>\n",
       "      <td>6</td>\n",
       "      <td>client 162.129.252.228 closed keepalive connec...</td>\n",
       "      <td>2020-04-25 21:26:56</td>\n",
       "    </tr>\n",
       "    <tr>\n",
       "      <th>2</th>\n",
       "      <td>26</td>\n",
       "      <td>NaN</td>\n",
       "      <td>info</td>\n",
       "      <td>6</td>\n",
       "      <td>NaN</td>\n",
       "      <td>NaN</td>\n",
       "      <td>6</td>\n",
       "      <td>client 162.129.252.228 closed keepalive connec...</td>\n",
       "      <td>2020-04-25 21:26:56</td>\n",
       "    </tr>\n",
       "    <tr>\n",
       "      <th>3</th>\n",
       "      <td>22</td>\n",
       "      <td>NaN</td>\n",
       "      <td>info</td>\n",
       "      <td>6</td>\n",
       "      <td>NaN</td>\n",
       "      <td>NaN</td>\n",
       "      <td>6</td>\n",
       "      <td>client 162.129.252.228 closed keepalive connec...</td>\n",
       "      <td>2020-04-25 21:26:56</td>\n",
       "    </tr>\n",
       "    <tr>\n",
       "      <th>4</th>\n",
       "      <td>22</td>\n",
       "      <td>96.245.195.226</td>\n",
       "      <td>info</td>\n",
       "      <td>6</td>\n",
       "      <td>NaN</td>\n",
       "      <td>0.0.0.0:80</td>\n",
       "      <td>6</td>\n",
       "      <td>client closed connection while waiting for req...</td>\n",
       "      <td>2020-04-25 21:36:05</td>\n",
       "    </tr>\n",
       "  </tbody>\n",
       "</table>\n",
       "</div>"
      ],
      "text/plain": [
       "  cid          client msg type proc id request      server thread id  \\\n",
       "0  29             NaN     info       6     NaN         NaN         6   \n",
       "1  25             NaN     info       6     NaN         NaN         6   \n",
       "2  26             NaN     info       6     NaN         NaN         6   \n",
       "3  22             NaN     info       6     NaN         NaN         6   \n",
       "4  22  96.245.195.226     info       6     NaN  0.0.0.0:80         6   \n",
       "\n",
       "                                       unparsed text            datetime  \n",
       "0  client 162.129.252.228 closed keepalive connec... 2020-04-25 21:26:56  \n",
       "1  client 162.129.252.228 closed keepalive connec... 2020-04-25 21:26:56  \n",
       "2  client 162.129.252.228 closed keepalive connec... 2020-04-25 21:26:56  \n",
       "3  client 162.129.252.228 closed keepalive connec... 2020-04-25 21:26:56  \n",
       "4  client closed connection while waiting for req... 2020-04-25 21:36:05  "
      ]
     },
     "execution_count": 8,
     "metadata": {},
     "output_type": "execute_result"
    }
   ],
   "source": [
    "df.head()"
   ]
  },
  {
   "cell_type": "code",
   "execution_count": 9,
   "metadata": {},
   "outputs": [
    {
     "data": {
      "text/plain": [
       "\"GET / HTTP/1.1\"                                      4\n",
       "\"H\u0000\u0000\u0000tj#D+l\u0019׍\u0018J\n",
       "nxu[lE\n",
       "-jxLr\u0015\u0010u%Rtg\u0005fv]%̀\n",
       "Ϯ\u0000fȍD\\t\"    1\n",
       "\"POST /cgi-bin/mainfunction.cgi HTTP/1.1\"             1\n",
       "\"CONNECT ip.ws.126.net:443 HTTP/1.1\"                  1\n",
       "\"sh+/tmp/gpon80&ipv=0\"                                1\n",
       "\"/tmp/gpon80&ipv=0\"                                   1\n",
       "Name: request, dtype: int64"
      ]
     },
     "execution_count": 9,
     "metadata": {},
     "output_type": "execute_result"
    }
   ],
   "source": [
    "df['request'].value_counts()"
   ]
  },
  {
   "cell_type": "code",
   "execution_count": 10,
   "metadata": {},
   "outputs": [
    {
     "data": {
      "text/plain": [
       "0.0.0.0:80    32\n",
       "               9\n",
       "Name: server, dtype: int64"
      ]
     },
     "execution_count": 10,
     "metadata": {},
     "output_type": "execute_result"
    }
   ],
   "source": [
    "df['server'].value_counts()"
   ]
  },
  {
   "cell_type": "code",
   "execution_count": 11,
   "metadata": {},
   "outputs": [
    {
     "data": {
      "text/plain": [
       "96.245.195.226    24\n",
       "35.197.133.35      3\n",
       "85.51.57.203       2\n",
       "47.101.56.34       2\n",
       "223.149.7.214      1\n",
       "118.173.190.27     1\n",
       "106.52.178.254     1\n",
       "148.63.179.102     1\n",
       "45.13.93.82        1\n",
       "42.231.98.143      1\n",
       "113.162.186.4      1\n",
       "1.1.162.136        1\n",
       "70.76.233.21       1\n",
       "66.240.205.34      1\n",
       "Name: client, dtype: int64"
      ]
     },
     "execution_count": 11,
     "metadata": {},
     "output_type": "execute_result"
    }
   ],
   "source": [
    "df['client'].value_counts()"
   ]
  },
  {
   "cell_type": "code",
   "execution_count": 33,
   "metadata": {},
   "outputs": [],
   "source": [
    "# download country code lookup table from https://dev.maxmind.com/geoip/legacy/codes/iso3166/\n",
    "# https://dev.maxmind.com/static/csv/codes/iso3166.csv\n",
    "    \n",
    "country_code_df = pandas.read_csv('iso3166.csv', header=None, names=['country code', 'name'])\n",
    "#country_code_df.shape    \n",
    "    \n",
    "def country_if_ip(ip):\n",
    "    ip = str(ip)\n",
    "    if ip!='nan':\n",
    "        try:\n",
    "            match = geolite2.lookup(ip)\n",
    "        except ValueError as err:\n",
    "            print((ip))\n",
    "        if match:\n",
    "            return country_code_df[country_code_df['country code']==match.country]['name'].values[0]\n",
    "        else:\n",
    "            return None\n",
    "    else:\n",
    "        return None"
   ]
  },
  {
   "cell_type": "code",
   "execution_count": 34,
   "metadata": {},
   "outputs": [],
   "source": [
    "df['client country'] = df['client'].apply(country_if_ip)"
   ]
  },
  {
   "cell_type": "code",
   "execution_count": 35,
   "metadata": {},
   "outputs": [
    {
     "data": {
      "text/html": [
       "<div>\n",
       "<style scoped>\n",
       "    .dataframe tbody tr th:only-of-type {\n",
       "        vertical-align: middle;\n",
       "    }\n",
       "\n",
       "    .dataframe tbody tr th {\n",
       "        vertical-align: top;\n",
       "    }\n",
       "\n",
       "    .dataframe thead th {\n",
       "        text-align: right;\n",
       "    }\n",
       "</style>\n",
       "<table border=\"1\" class=\"dataframe\">\n",
       "  <thead>\n",
       "    <tr style=\"text-align: right;\">\n",
       "      <th></th>\n",
       "      <th>cid</th>\n",
       "      <th>client</th>\n",
       "      <th>msg type</th>\n",
       "      <th>proc id</th>\n",
       "      <th>request</th>\n",
       "      <th>server</th>\n",
       "      <th>thread id</th>\n",
       "      <th>unparsed text</th>\n",
       "      <th>datetime</th>\n",
       "      <th>client country</th>\n",
       "    </tr>\n",
       "  </thead>\n",
       "  <tbody>\n",
       "    <tr>\n",
       "      <th>0</th>\n",
       "      <td>29</td>\n",
       "      <td>NaN</td>\n",
       "      <td>info</td>\n",
       "      <td>6</td>\n",
       "      <td>NaN</td>\n",
       "      <td>NaN</td>\n",
       "      <td>6</td>\n",
       "      <td>client 162.129.252.228 closed keepalive connec...</td>\n",
       "      <td>2020-04-25 21:26:56</td>\n",
       "      <td>None</td>\n",
       "    </tr>\n",
       "    <tr>\n",
       "      <th>1</th>\n",
       "      <td>25</td>\n",
       "      <td>NaN</td>\n",
       "      <td>info</td>\n",
       "      <td>6</td>\n",
       "      <td>NaN</td>\n",
       "      <td>NaN</td>\n",
       "      <td>6</td>\n",
       "      <td>client 162.129.252.228 closed keepalive connec...</td>\n",
       "      <td>2020-04-25 21:26:56</td>\n",
       "      <td>None</td>\n",
       "    </tr>\n",
       "    <tr>\n",
       "      <th>2</th>\n",
       "      <td>26</td>\n",
       "      <td>NaN</td>\n",
       "      <td>info</td>\n",
       "      <td>6</td>\n",
       "      <td>NaN</td>\n",
       "      <td>NaN</td>\n",
       "      <td>6</td>\n",
       "      <td>client 162.129.252.228 closed keepalive connec...</td>\n",
       "      <td>2020-04-25 21:26:56</td>\n",
       "      <td>None</td>\n",
       "    </tr>\n",
       "    <tr>\n",
       "      <th>3</th>\n",
       "      <td>22</td>\n",
       "      <td>NaN</td>\n",
       "      <td>info</td>\n",
       "      <td>6</td>\n",
       "      <td>NaN</td>\n",
       "      <td>NaN</td>\n",
       "      <td>6</td>\n",
       "      <td>client 162.129.252.228 closed keepalive connec...</td>\n",
       "      <td>2020-04-25 21:26:56</td>\n",
       "      <td>None</td>\n",
       "    </tr>\n",
       "    <tr>\n",
       "      <th>4</th>\n",
       "      <td>22</td>\n",
       "      <td>96.245.195.226</td>\n",
       "      <td>info</td>\n",
       "      <td>6</td>\n",
       "      <td>NaN</td>\n",
       "      <td>0.0.0.0:80</td>\n",
       "      <td>6</td>\n",
       "      <td>client closed connection while waiting for req...</td>\n",
       "      <td>2020-04-25 21:36:05</td>\n",
       "      <td>United States</td>\n",
       "    </tr>\n",
       "  </tbody>\n",
       "</table>\n",
       "</div>"
      ],
      "text/plain": [
       "  cid          client msg type proc id request      server thread id  \\\n",
       "0  29             NaN     info       6     NaN         NaN         6   \n",
       "1  25             NaN     info       6     NaN         NaN         6   \n",
       "2  26             NaN     info       6     NaN         NaN         6   \n",
       "3  22             NaN     info       6     NaN         NaN         6   \n",
       "4  22  96.245.195.226     info       6     NaN  0.0.0.0:80         6   \n",
       "\n",
       "                                       unparsed text            datetime  \\\n",
       "0  client 162.129.252.228 closed keepalive connec... 2020-04-25 21:26:56   \n",
       "1  client 162.129.252.228 closed keepalive connec... 2020-04-25 21:26:56   \n",
       "2  client 162.129.252.228 closed keepalive connec... 2020-04-25 21:26:56   \n",
       "3  client 162.129.252.228 closed keepalive connec... 2020-04-25 21:26:56   \n",
       "4  client closed connection while waiting for req... 2020-04-25 21:36:05   \n",
       "\n",
       "  client country  \n",
       "0           None  \n",
       "1           None  \n",
       "2           None  \n",
       "3           None  \n",
       "4  United States  "
      ]
     },
     "execution_count": 35,
     "metadata": {},
     "output_type": "execute_result"
    }
   ],
   "source": [
    "df.head()"
   ]
  },
  {
   "cell_type": "code",
   "execution_count": 36,
   "metadata": {},
   "outputs": [
    {
     "data": {
      "text/plain": [
       "United States    29\n",
       "China             3\n",
       "Canada            3\n",
       "Spain             2\n",
       "Thailand          2\n",
       "Vietnam           1\n",
       "Name: client country, dtype: int64"
      ]
     },
     "execution_count": 36,
     "metadata": {},
     "output_type": "execute_result"
    }
   ],
   "source": [
    "df['client country'].value_counts()"
   ]
  },
  {
   "cell_type": "code",
   "execution_count": null,
   "metadata": {},
   "outputs": [],
   "source": []
  }
 ],
 "metadata": {
  "kernelspec": {
   "display_name": "Python 3",
   "language": "python",
   "name": "python3"
  },
  "language_info": {
   "codemirror_mode": {
    "name": "ipython",
    "version": 3
   },
   "file_extension": ".py",
   "mimetype": "text/x-python",
   "name": "python",
   "nbconvert_exporter": "python",
   "pygments_lexer": "ipython3",
   "version": "3.6.6"
  }
 },
 "nbformat": 4,
 "nbformat_minor": 2
}
