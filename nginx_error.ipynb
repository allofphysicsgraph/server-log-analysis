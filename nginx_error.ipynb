{
 "cells": [
  {
   "cell_type": "code",
   "execution_count": null,
   "metadata": {},
   "outputs": [],
   "source": []
  },
  {
   "cell_type": "code",
   "execution_count": null,
   "metadata": {},
   "outputs": [],
   "source": []
  },
  {
   "cell_type": "markdown",
   "metadata": {},
   "source": [
    "data collected April 25, 2020 on a DigitalOcean droplet running Ubuntu 18.04"
   ]
  },
  {
   "cell_type": "code",
   "execution_count": 14,
   "metadata": {},
   "outputs": [
    {
     "name": "stdout",
     "output_type": "stream",
     "text": [
      "pandas 0.23.4\n",
      "3.6.6 | packaged by conda-forge | (default, Oct 12 2018, 14:08:43) \n",
      "[GCC 4.8.2 20140120 (Red Hat 4.8.2-15)]\n"
     ]
    }
   ],
   "source": [
    "import pandas\n",
    "print('pandas',pandas.__version__)\n",
    "import re\n",
    "import time\n",
    "from geoip import geolite2\n",
    "import sys\n",
    "print(sys.version)\n",
    "import matplotlib.pyplot as plt"
   ]
  },
  {
   "cell_type": "code",
   "execution_count": 15,
   "metadata": {},
   "outputs": [],
   "source": [
    "# https://stackoverflow.com/questions/30700166/python-open-file-error\n",
    "with open('nginx_error.log','r', errors = 'ignore') as f:\n",
    "    lines = f.readlines()"
   ]
  },
  {
   "cell_type": "code",
   "execution_count": 16,
   "metadata": {},
   "outputs": [
    {
     "data": {
      "text/plain": [
       "['2020/04/25 21:26:56 [info] 6#6: *29 client 162.129.252.228 closed keepalive connection\\n',\n",
       " '2020/04/25 21:26:56 [info] 6#6: *25 client 162.129.252.228 closed keepalive connection\\n',\n",
       " '2020/04/25 21:26:56 [info] 6#6: *26 client 162.129.252.228 closed keepalive connection\\n',\n",
       " '2020/04/25 21:26:56 [info] 6#6: *22 client 162.129.252.228 closed keepalive connection\\n',\n",
       " '2020/04/25 21:36:05 [info] 6#6: *22 client closed connection while waiting for request, client: 96.245.195.226, server: 0.0.0.0:80\\n',\n",
       " '2020/04/25 21:36:36 [info] 6#6: *45 client closed connection while waiting for request, client: 96.245.195.226, server: 0.0.0.0:80\\n',\n",
       " '2020/04/25 21:36:41 [info] 6#6: *61 client closed connection while waiting for request, client: 96.245.195.226, server: 0.0.0.0:80\\n',\n",
       " '2020/04/25 21:36:48 [info] 6#6: *65 client closed connection while waiting for request, client: 96.245.195.226, server: 0.0.0.0:80\\n',\n",
       " '2020/04/25 21:37:01 [info] 6#6: *67 client closed connection while waiting for request, client: 96.245.195.226, server: 0.0.0.0:80\\n',\n",
       " '2020/04/25 21:37:06 [info] 6#6: *75 client closed connection while waiting for request, client: 96.245.195.226, server: 0.0.0.0:80\\n']"
      ]
     },
     "execution_count": 16,
     "metadata": {},
     "output_type": "execute_result"
    }
   ],
   "source": [
    "lines[0:10]"
   ]
  },
  {
   "cell_type": "code",
   "execution_count": 48,
   "metadata": {},
   "outputs": [],
   "source": [
    "list_of_dicts = []\n",
    "for indx, line in enumerate(lines):\n",
    "    line_as_dict = {}\n",
    "    line_as_list = line.split(' ')\n",
    "    line_as_dict['date time'] = ' '.join(line_as_list[0:2])\n",
    "    line_as_dict['msg type'] = line_as_list[2].replace('[','').replace(']','')\n",
    "    # https://stackoverflow.com/a/26125951/1164295\n",
    "    msg = line_as_list[3:]\n",
    "    line_as_dict['proc id'] = msg[0].split('#')[0]\n",
    "    line_as_dict['thread id'] = msg[0].split('#')[1].replace(':','')\n",
    "    if msg[1].startswith('*'):\n",
    "        line_as_dict['cid'] = msg[1].replace('*','')\n",
    "        msg_text = ' '.join(msg[2:]).strip()\n",
    "    else:\n",
    "        msg_text = ' '.join(msg[1:]).strip()\n",
    "    #print(msg_text.split(', '))\n",
    "    unparsed_text = ''\n",
    "    for this_text in msg_text.split(', '):\n",
    "        if this_text.startswith('request: '):\n",
    "            line_as_dict['request'] = this_text.replace('request: ','')\n",
    "        elif this_text.startswith('server: '):\n",
    "            line_as_dict['server'] = this_text.replace('server: ','')\n",
    "        elif this_text.startswith('client: '):\n",
    "            line_as_dict['client'] = this_text.replace('client: ','')\n",
    "        else:\n",
    "            unparsed_text += this_text\n",
    "    line_as_dict['unparsed text'] = unparsed_text\n",
    "    \n",
    "    list_of_dicts.append(line_as_dict)"
   ]
  },
  {
   "cell_type": "code",
   "execution_count": 49,
   "metadata": {},
   "outputs": [
    {
     "data": {
      "text/plain": [
       "(412, 9)"
      ]
     },
     "execution_count": 49,
     "metadata": {},
     "output_type": "execute_result"
    }
   ],
   "source": [
    "df = pandas.DataFrame(list_of_dicts)\n",
    "df.shape"
   ]
  },
  {
   "cell_type": "code",
   "execution_count": 50,
   "metadata": {},
   "outputs": [],
   "source": [
    "# https://strftime.org/\n",
    "df['datetime'] = pandas.to_datetime(df['date time'], format='%Y/%m/%d %H:%M:%S')\n",
    "# https://pandas.pydata.org/pandas-docs/stable/reference/api/pandas.DataFrame.drop.html\n",
    "df.drop('date time', inplace=True, axis=1)"
   ]
  },
  {
   "cell_type": "code",
   "execution_count": 51,
   "metadata": {},
   "outputs": [
    {
     "data": {
      "text/html": [
       "<div>\n",
       "<style scoped>\n",
       "    .dataframe tbody tr th:only-of-type {\n",
       "        vertical-align: middle;\n",
       "    }\n",
       "\n",
       "    .dataframe tbody tr th {\n",
       "        vertical-align: top;\n",
       "    }\n",
       "\n",
       "    .dataframe thead th {\n",
       "        text-align: right;\n",
       "    }\n",
       "</style>\n",
       "<table border=\"1\" class=\"dataframe\">\n",
       "  <thead>\n",
       "    <tr style=\"text-align: right;\">\n",
       "      <th></th>\n",
       "      <th>cid</th>\n",
       "      <th>client</th>\n",
       "      <th>msg type</th>\n",
       "      <th>proc id</th>\n",
       "      <th>request</th>\n",
       "      <th>server</th>\n",
       "      <th>thread id</th>\n",
       "      <th>unparsed text</th>\n",
       "      <th>datetime</th>\n",
       "    </tr>\n",
       "  </thead>\n",
       "  <tbody>\n",
       "    <tr>\n",
       "      <th>0</th>\n",
       "      <td>29</td>\n",
       "      <td>NaN</td>\n",
       "      <td>info</td>\n",
       "      <td>6</td>\n",
       "      <td>NaN</td>\n",
       "      <td>NaN</td>\n",
       "      <td>6</td>\n",
       "      <td>client 162.129.252.228 closed keepalive connec...</td>\n",
       "      <td>2020-04-25 21:26:56</td>\n",
       "    </tr>\n",
       "    <tr>\n",
       "      <th>1</th>\n",
       "      <td>25</td>\n",
       "      <td>NaN</td>\n",
       "      <td>info</td>\n",
       "      <td>6</td>\n",
       "      <td>NaN</td>\n",
       "      <td>NaN</td>\n",
       "      <td>6</td>\n",
       "      <td>client 162.129.252.228 closed keepalive connec...</td>\n",
       "      <td>2020-04-25 21:26:56</td>\n",
       "    </tr>\n",
       "    <tr>\n",
       "      <th>2</th>\n",
       "      <td>26</td>\n",
       "      <td>NaN</td>\n",
       "      <td>info</td>\n",
       "      <td>6</td>\n",
       "      <td>NaN</td>\n",
       "      <td>NaN</td>\n",
       "      <td>6</td>\n",
       "      <td>client 162.129.252.228 closed keepalive connec...</td>\n",
       "      <td>2020-04-25 21:26:56</td>\n",
       "    </tr>\n",
       "    <tr>\n",
       "      <th>3</th>\n",
       "      <td>22</td>\n",
       "      <td>NaN</td>\n",
       "      <td>info</td>\n",
       "      <td>6</td>\n",
       "      <td>NaN</td>\n",
       "      <td>NaN</td>\n",
       "      <td>6</td>\n",
       "      <td>client 162.129.252.228 closed keepalive connec...</td>\n",
       "      <td>2020-04-25 21:26:56</td>\n",
       "    </tr>\n",
       "    <tr>\n",
       "      <th>4</th>\n",
       "      <td>22</td>\n",
       "      <td>96.245.195.226</td>\n",
       "      <td>info</td>\n",
       "      <td>6</td>\n",
       "      <td>NaN</td>\n",
       "      <td>0.0.0.0:80</td>\n",
       "      <td>6</td>\n",
       "      <td>client closed connection while waiting for req...</td>\n",
       "      <td>2020-04-25 21:36:05</td>\n",
       "    </tr>\n",
       "  </tbody>\n",
       "</table>\n",
       "</div>"
      ],
      "text/plain": [
       "  cid          client msg type proc id request      server thread id  \\\n",
       "0  29             NaN     info       6     NaN         NaN         6   \n",
       "1  25             NaN     info       6     NaN         NaN         6   \n",
       "2  26             NaN     info       6     NaN         NaN         6   \n",
       "3  22             NaN     info       6     NaN         NaN         6   \n",
       "4  22  96.245.195.226     info       6     NaN  0.0.0.0:80         6   \n",
       "\n",
       "                                       unparsed text            datetime  \n",
       "0  client 162.129.252.228 closed keepalive connec... 2020-04-25 21:26:56  \n",
       "1  client 162.129.252.228 closed keepalive connec... 2020-04-25 21:26:56  \n",
       "2  client 162.129.252.228 closed keepalive connec... 2020-04-25 21:26:56  \n",
       "3  client 162.129.252.228 closed keepalive connec... 2020-04-25 21:26:56  \n",
       "4  client closed connection while waiting for req... 2020-04-25 21:36:05  "
      ]
     },
     "execution_count": 51,
     "metadata": {},
     "output_type": "execute_result"
    }
   ],
   "source": [
    "df.head()"
   ]
  },
  {
   "cell_type": "code",
   "execution_count": 56,
   "metadata": {},
   "outputs": [
    {
     "data": {
      "text/plain": [
       "\"GET / HTTP/1.1\"                                      4\n",
       "\"H\u0000\u0000\u0000tj#D+l\u0019׍\u0018J\n",
       "nxu[lE\n",
       "-jxLr\u0015\u0010u%Rtg\u0005fv]%̀\n",
       "Ϯ\u0000fȍD\\t\"    1\n",
       "\"/tmp/gpon80&ipv=0\"                                   1\n",
       "\"POST /cgi-bin/mainfunction.cgi HTTP/1.1\"             1\n",
       "\"sh+/tmp/gpon80&ipv=0\"                                1\n",
       "\"CONNECT ip.ws.126.net:443 HTTP/1.1\"                  1\n",
       "Name: request, dtype: int64"
      ]
     },
     "execution_count": 56,
     "metadata": {},
     "output_type": "execute_result"
    }
   ],
   "source": [
    "df['request'].value_counts()"
   ]
  },
  {
   "cell_type": "code",
   "execution_count": 55,
   "metadata": {},
   "outputs": [
    {
     "data": {
      "text/plain": [
       "0.0.0.0:80    32\n",
       "               9\n",
       "Name: server, dtype: int64"
      ]
     },
     "execution_count": 55,
     "metadata": {},
     "output_type": "execute_result"
    }
   ],
   "source": [
    "df['server'].value_counts()"
   ]
  },
  {
   "cell_type": "code",
   "execution_count": 54,
   "metadata": {},
   "outputs": [
    {
     "data": {
      "text/plain": [
       "96.245.195.226    24\n",
       "35.197.133.35      3\n",
       "85.51.57.203       2\n",
       "47.101.56.34       2\n",
       "113.162.186.4      1\n",
       "66.240.205.34      1\n",
       "45.13.93.82        1\n",
       "223.149.7.214      1\n",
       "118.173.190.27     1\n",
       "1.1.162.136        1\n",
       "42.231.98.143      1\n",
       "70.76.233.21       1\n",
       "148.63.179.102     1\n",
       "106.52.178.254     1\n",
       "Name: client, dtype: int64"
      ]
     },
     "execution_count": 54,
     "metadata": {},
     "output_type": "execute_result"
    }
   ],
   "source": [
    "df['client'].value_counts()"
   ]
  },
  {
   "cell_type": "code",
   "execution_count": null,
   "metadata": {},
   "outputs": [],
   "source": []
  }
 ],
 "metadata": {
  "kernelspec": {
   "display_name": "Python 3",
   "language": "python",
   "name": "python3"
  },
  "language_info": {
   "codemirror_mode": {
    "name": "ipython",
    "version": 3
   },
   "file_extension": ".py",
   "mimetype": "text/x-python",
   "name": "python",
   "nbconvert_exporter": "python",
   "pygments_lexer": "ipython3",
   "version": "3.6.6"
  }
 },
 "nbformat": 4,
 "nbformat_minor": 2
}
