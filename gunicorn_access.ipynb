{
 "cells": [
  {
   "cell_type": "code",
   "execution_count": null,
   "metadata": {},
   "outputs": [],
   "source": []
  },
  {
   "cell_type": "code",
   "execution_count": null,
   "metadata": {},
   "outputs": [],
   "source": []
  },
  {
   "cell_type": "markdown",
   "metadata": {},
   "source": [
    "data collected April 25, 2020 on a DigitalOcean droplet running Ubuntu 18.04"
   ]
  },
  {
   "cell_type": "code",
   "execution_count": 1,
   "metadata": {},
   "outputs": [
    {
     "name": "stdout",
     "output_type": "stream",
     "text": [
      "Requirement already satisfied: python-geoip-geolite2 in /opt/conda/lib/python3.6/site-packages (2015.303)\n",
      "Requirement already satisfied: python-geoip in /opt/conda/lib/python3.6/site-packages (from python-geoip-geolite2) (1.2)\n",
      "Requirement already satisfied: python-geoip-python3 in /opt/conda/lib/python3.6/site-packages (1.3)\n"
     ]
    }
   ],
   "source": [
    "# the order of installation matters for these two :(\n",
    "!pip install python-geoip-geolite2\n",
    "!pip install python-geoip-python3"
   ]
  },
  {
   "cell_type": "code",
   "execution_count": 2,
   "metadata": {},
   "outputs": [
    {
     "name": "stdout",
     "output_type": "stream",
     "text": [
      "pandas 0.23.4\n",
      "3.6.6 | packaged by conda-forge | (default, Oct 12 2018, 14:08:43) \n",
      "[GCC 4.8.2 20140120 (Red Hat 4.8.2-15)]\n"
     ]
    }
   ],
   "source": [
    "import pandas\n",
    "print('pandas',pandas.__version__)\n",
    "import re\n",
    "import time\n",
    "from geoip import geolite2\n",
    "import sys\n",
    "print(sys.version)\n",
    "import matplotlib.pyplot as plt"
   ]
  },
  {
   "cell_type": "code",
   "execution_count": 3,
   "metadata": {},
   "outputs": [],
   "source": [
    "with open('gunicorn_access.log','r') as f:\n",
    "    lines = f.readlines()"
   ]
  },
  {
   "cell_type": "code",
   "execution_count": 4,
   "metadata": {},
   "outputs": [
    {
     "data": {
      "text/plain": [
       "['172.18.0.3 - - [25/Apr/2020:21:25:50 +0000] \"GET / HTTP/1.0\" 200 17635 \"-\" \"Mozilla/5.0 (Macintosh; Intel Mac OS X 10_15_4) AppleWebKit/537.36 (KHTML, like Gecko) Chrome/81.0.4044.113 Safari/537.36\"\\n',\n",
       " '172.18.0.3 - - [25/Apr/2020:21:25:50 +0000] \"GET /static/sorttable.js HTTP/1.0\" 200 0 \"http://167.172.250.37/\" \"Mozilla/5.0 (Macintosh; Intel Mac OS X 10_15_4) AppleWebKit/537.36 (KHTML, like Gecko) Chrome/81.0.4044.113 Safari/537.36\"\\n',\n",
       " '172.18.0.3 - - [25/Apr/2020:21:25:50 +0000] \"GET /static/d3.min.js HTTP/1.0\" 200 0 \"http://167.172.250.37/\" \"Mozilla/5.0 (Macintosh; Intel Mac OS X 10_15_4) AppleWebKit/537.36 (KHTML, like Gecko) Chrome/81.0.4044.113 Safari/537.36\"\\n',\n",
       " '172.18.0.3 - - [25/Apr/2020:21:25:51 +0000] \"GET /static/single_step.png HTTP/1.0\" 200 0 \"http://167.172.250.37/\" \"Mozilla/5.0 (Macintosh; Intel Mac OS X 10_15_4) AppleWebKit/537.36 (KHTML, like Gecko) Chrome/81.0.4044.113 Safari/537.36\"\\n',\n",
       " '172.18.0.3 - - [25/Apr/2020:21:25:51 +0000] \"GET /static/mathjax/tex-svg.js HTTP/1.0\" 200 0 \"http://167.172.250.37/\" \"Mozilla/5.0 (Macintosh; Intel Mac OS X 10_15_4) AppleWebKit/537.36 (KHTML, like Gecko) Chrome/81.0.4044.113 Safari/537.36\"\\n']"
      ]
     },
     "execution_count": 4,
     "metadata": {},
     "output_type": "execute_result"
    }
   ],
   "source": [
    "lines[0:5]"
   ]
  },
  {
   "cell_type": "code",
   "execution_count": 5,
   "metadata": {},
   "outputs": [],
   "source": [
    "list_of_dicts = []\n",
    "for indx, line in enumerate(lines):\n",
    "    line_as_dict = {}\n",
    "    line_as_list = line.split(' ')\n",
    "    line_as_dict['remote ip'] = line_as_list[0]\n",
    "    line_as_dict['remote user'] = line_as_list[2]\n",
    "    line_as_dict['date time'] = line_as_list[3]\n",
    "    message = ' '.join(line_as_list[5:])\n",
    "    # https://stackoverflow.com/questions/16710076/python-split-a-string-respect-and-preserve-quotes\n",
    "    msg_as_list = re.findall(r'(?:[^\\s,\"]|\"(?:\\\\.|[^\"])*\")+', message)\n",
    "    if len(msg_as_list)!=5:\n",
    "        print(message)\n",
    "    request = msg_as_list[0]\n",
    "    request_as_list = request.split(' ')\n",
    "    if (len(request_as_list)!=3):\n",
    "        print('request does not match expected format:')\n",
    "        print(line)\n",
    "    else:\n",
    "        line_as_dict['request method'] = request_as_list[0].replace('\"','')\n",
    "        line_as_dict['request file'] = request_as_list[1]\n",
    "        line_as_dict['request proto'] = request_as_list[2].replace('\"','')\n",
    "    line_as_dict['status'] = msg_as_list[1]\n",
    "    line_as_dict['body bytes sent'] = msg_as_list[2]\n",
    "    line_as_dict['referrer'] = msg_as_list[3]\n",
    "    line_as_dict['user agent'] = msg_as_list[4]\n",
    "#    line_as_dict['gzip ratio'] = msg_as_list[5]\n",
    "\n",
    "    list_of_dicts.append(line_as_dict)"
   ]
  },
  {
   "cell_type": "code",
   "execution_count": 6,
   "metadata": {},
   "outputs": [
    {
     "data": {
      "text/plain": [
       "(826, 10)"
      ]
     },
     "execution_count": 6,
     "metadata": {},
     "output_type": "execute_result"
    }
   ],
   "source": [
    "df = pandas.DataFrame(list_of_dicts)\n",
    "df.shape"
   ]
  },
  {
   "cell_type": "code",
   "execution_count": 7,
   "metadata": {},
   "outputs": [],
   "source": [
    "# https://strftime.org/\n",
    "df['datetime'] = pandas.to_datetime(df['date time'], format='[%d/%b/%Y:%H:%M:%S')\n",
    "# https://pandas.pydata.org/pandas-docs/stable/reference/api/pandas.DataFrame.drop.html\n",
    "df.drop('date time', inplace=True, axis=1)"
   ]
  },
  {
   "cell_type": "code",
   "execution_count": 8,
   "metadata": {},
   "outputs": [
    {
     "data": {
      "text/html": [
       "<div>\n",
       "<style scoped>\n",
       "    .dataframe tbody tr th:only-of-type {\n",
       "        vertical-align: middle;\n",
       "    }\n",
       "\n",
       "    .dataframe tbody tr th {\n",
       "        vertical-align: top;\n",
       "    }\n",
       "\n",
       "    .dataframe thead th {\n",
       "        text-align: right;\n",
       "    }\n",
       "</style>\n",
       "<table border=\"1\" class=\"dataframe\">\n",
       "  <thead>\n",
       "    <tr style=\"text-align: right;\">\n",
       "      <th></th>\n",
       "      <th>body bytes sent</th>\n",
       "      <th>referrer</th>\n",
       "      <th>remote ip</th>\n",
       "      <th>remote user</th>\n",
       "      <th>request file</th>\n",
       "      <th>request method</th>\n",
       "      <th>request proto</th>\n",
       "      <th>status</th>\n",
       "      <th>user agent</th>\n",
       "      <th>datetime</th>\n",
       "    </tr>\n",
       "  </thead>\n",
       "  <tbody>\n",
       "    <tr>\n",
       "      <th>0</th>\n",
       "      <td>17635</td>\n",
       "      <td>\"-\"</td>\n",
       "      <td>172.18.0.3</td>\n",
       "      <td>-</td>\n",
       "      <td>/</td>\n",
       "      <td>GET</td>\n",
       "      <td>HTTP/1.0</td>\n",
       "      <td>200</td>\n",
       "      <td>\"Mozilla/5.0 (Macintosh; Intel Mac OS X 10_15_...</td>\n",
       "      <td>2020-04-25 21:25:50</td>\n",
       "    </tr>\n",
       "    <tr>\n",
       "      <th>1</th>\n",
       "      <td>0</td>\n",
       "      <td>\"http://167.172.250.37/\"</td>\n",
       "      <td>172.18.0.3</td>\n",
       "      <td>-</td>\n",
       "      <td>/static/sorttable.js</td>\n",
       "      <td>GET</td>\n",
       "      <td>HTTP/1.0</td>\n",
       "      <td>200</td>\n",
       "      <td>\"Mozilla/5.0 (Macintosh; Intel Mac OS X 10_15_...</td>\n",
       "      <td>2020-04-25 21:25:50</td>\n",
       "    </tr>\n",
       "    <tr>\n",
       "      <th>2</th>\n",
       "      <td>0</td>\n",
       "      <td>\"http://167.172.250.37/\"</td>\n",
       "      <td>172.18.0.3</td>\n",
       "      <td>-</td>\n",
       "      <td>/static/d3.min.js</td>\n",
       "      <td>GET</td>\n",
       "      <td>HTTP/1.0</td>\n",
       "      <td>200</td>\n",
       "      <td>\"Mozilla/5.0 (Macintosh; Intel Mac OS X 10_15_...</td>\n",
       "      <td>2020-04-25 21:25:50</td>\n",
       "    </tr>\n",
       "    <tr>\n",
       "      <th>3</th>\n",
       "      <td>0</td>\n",
       "      <td>\"http://167.172.250.37/\"</td>\n",
       "      <td>172.18.0.3</td>\n",
       "      <td>-</td>\n",
       "      <td>/static/single_step.png</td>\n",
       "      <td>GET</td>\n",
       "      <td>HTTP/1.0</td>\n",
       "      <td>200</td>\n",
       "      <td>\"Mozilla/5.0 (Macintosh; Intel Mac OS X 10_15_...</td>\n",
       "      <td>2020-04-25 21:25:51</td>\n",
       "    </tr>\n",
       "    <tr>\n",
       "      <th>4</th>\n",
       "      <td>0</td>\n",
       "      <td>\"http://167.172.250.37/\"</td>\n",
       "      <td>172.18.0.3</td>\n",
       "      <td>-</td>\n",
       "      <td>/static/mathjax/tex-svg.js</td>\n",
       "      <td>GET</td>\n",
       "      <td>HTTP/1.0</td>\n",
       "      <td>200</td>\n",
       "      <td>\"Mozilla/5.0 (Macintosh; Intel Mac OS X 10_15_...</td>\n",
       "      <td>2020-04-25 21:25:51</td>\n",
       "    </tr>\n",
       "  </tbody>\n",
       "</table>\n",
       "</div>"
      ],
      "text/plain": [
       "  body bytes sent                  referrer   remote ip remote user  \\\n",
       "0           17635                       \"-\"  172.18.0.3           -   \n",
       "1               0  \"http://167.172.250.37/\"  172.18.0.3           -   \n",
       "2               0  \"http://167.172.250.37/\"  172.18.0.3           -   \n",
       "3               0  \"http://167.172.250.37/\"  172.18.0.3           -   \n",
       "4               0  \"http://167.172.250.37/\"  172.18.0.3           -   \n",
       "\n",
       "                 request file request method request proto status  \\\n",
       "0                           /            GET      HTTP/1.0    200   \n",
       "1        /static/sorttable.js            GET      HTTP/1.0    200   \n",
       "2           /static/d3.min.js            GET      HTTP/1.0    200   \n",
       "3     /static/single_step.png            GET      HTTP/1.0    200   \n",
       "4  /static/mathjax/tex-svg.js            GET      HTTP/1.0    200   \n",
       "\n",
       "                                          user agent            datetime  \n",
       "0  \"Mozilla/5.0 (Macintosh; Intel Mac OS X 10_15_... 2020-04-25 21:25:50  \n",
       "1  \"Mozilla/5.0 (Macintosh; Intel Mac OS X 10_15_... 2020-04-25 21:25:50  \n",
       "2  \"Mozilla/5.0 (Macintosh; Intel Mac OS X 10_15_... 2020-04-25 21:25:50  \n",
       "3  \"Mozilla/5.0 (Macintosh; Intel Mac OS X 10_15_... 2020-04-25 21:25:51  \n",
       "4  \"Mozilla/5.0 (Macintosh; Intel Mac OS X 10_15_... 2020-04-25 21:25:51  "
      ]
     },
     "execution_count": 8,
     "metadata": {},
     "output_type": "execute_result"
    }
   ],
   "source": [
    "df.head()"
   ]
  },
  {
   "cell_type": "code",
   "execution_count": 9,
   "metadata": {},
   "outputs": [
    {
     "data": {
      "text/plain": [
       "172.18.0.3    826\n",
       "Name: remote ip, dtype: int64"
      ]
     },
     "execution_count": 9,
     "metadata": {},
     "output_type": "execute_result"
    }
   ],
   "source": [
    "df['remote ip'].value_counts()"
   ]
  },
  {
   "cell_type": "code",
   "execution_count": 10,
   "metadata": {},
   "outputs": [
    {
     "data": {
      "text/plain": [
       "\"Mozilla/5.0 (X11; Linux x86_64; rv:68.0) Gecko/20100101 Firefox/68.0\"                                                                           236\n",
       "\"Mozilla/5.0 (iPhone; CPU iPhone OS 13_3_1 like Mac OS X) AppleWebKit/605.1.15 (KHTML, like Gecko) Version/13.0.5 Mobile/15E148 Safari/604.1\"    143\n",
       "\"Mozilla/5.0 (Windows NT 10.0; Win64; x64) AppleWebKit/537.36 (KHTML, like Gecko) Chrome/68.0.3440.106 Safari/537.36\"                            114\n",
       "\"Mozilla/4.0 (compatible; MSIE 7.0; Windows NT 6.0)\"                                                                                              92\n",
       "\"Mozilla/5.0 (X11; Ubuntu; Linux x86_64; rv:47.0) Gecko/20100101 Firefox/47.0\"                                                                    77\n",
       "\"Mozilla/5.0 (Macintosh; Intel Mac OS X 10_15_4) AppleWebKit/537.36 (KHTML, like Gecko) Chrome/81.0.4044.113 Safari/537.36\"                       51\n",
       "\"Mozilla/5.0 (Windows NT 10.0; Win64; x64) AppleWebKit/537.36 (KHTML, like Gecko) Chrome/79.0.3945.88 Safari/537.36\"                              36\n",
       "\"Mozilla/5.0 (Windows NT 10.0; Win64; x64; rv:57.0) Gecko/20100101 Firefox/57.0\"                                                                  27\n",
       "\"Mozilla/5.0 (X11; Linux x86_64; rv:52.0) Gecko/20100101 Firefox/52.0\"                                                                             6\n",
       "\"-\"                                                                                                                                                5\n",
       "\"Mozilla/5.0 (Windows NT 6.1; Win64; x64) AppleWebKit/537.36 (KHTML, like Gecko) Chrome/66.0.3359.139 Safari/537.36\"                               5\n",
       "\"Mozilla/5.0 (X11; Linux x86_64) AppleWebKit/537.36 (KHTML, like Gecko) Chrome/51.0.2704.84 Safari/537.36\"                                         4\n",
       "\"Mozilla/5.0 (Windows NT 10.0; WOW64) AppleWebKit/537.36 (KHTML, like Gecko) Chrome/52.0.2743.116 Safari/537.36\"                                   4\n",
       "\"Mozilla/5.0 (Windows NT 6.1; Win64; x64; rv:28.0) Gecko/20100101 Firefox/28.0\"                                                                    4\n",
       "\"Mozilla/5.0 (Windows NT 6.1; WOW64; rv:57.0) Gecko/20100101 Firefox/57.0\"                                                                         3\n",
       "\"Mozilla/5.0 (X11; Linux x86_64; rv:28.0) Gecko/20100101 Firefox/28.0\"                                                                             3\n",
       "\"Mozilla/5.0 (Windows NT 6.1; WOW64) AppleWebKit/537.36 (KHTML, like Gecko) Chrome/52.0.2743.116 Safari/537.36\"                                    3\n",
       "\"Mozilla/5.0 (Windows; U; Windows NT 6.0;en-US; rv:1.9.2) Gecko/20100115 Firefox/3.6)\"                                                             2\n",
       "\"Hello, World\"                                                                                                                                     2\n",
       "\"Mozilla/5.0 (Macintosh; Intel Mac OS X 10_11_6) AppleWebKit/601.7.7 (KHTML, like Gecko) Version/9.1.2 Safari/601.7.7\"                             2\n",
       "\"Mozilla/5.0 (Windows NT 10.0; WOW64) AppleWebKit/537.36 (KHTML, like Gecko) Chrome/51.0.2704.103 Safari/537.36\"                                   2\n",
       "\"Mozilla/5.0 zgrab/0.x\"                                                                                                                            1\n",
       "\"Mozilla/4.0 (compatible; MSIE 8.0; Windows NT 6.0; Trident/4.0)\"                                                                                  1\n",
       "\"Mozilla/5.0 (Windows NT 10.0; Win64; x64) AppleWebKit/537.36 (KHTML, like Gecko) Chrome/60.0.3112.113 Safari/537.36\"                              1\n",
       "\"Mozilla/5.0\"                                                                                                                                      1\n",
       "\"Mozilla/5.0 (Windows NT 6.1) AppleWebKit/537.36 (KHTML, like Gecko) Chrome/66.0.3359.139 Safari/537.36\"                                           1\n",
       "Name: user agent, dtype: int64"
      ]
     },
     "execution_count": 10,
     "metadata": {},
     "output_type": "execute_result"
    }
   ],
   "source": [
    "df['user agent'].value_counts()"
   ]
  },
  {
   "cell_type": "code",
   "execution_count": null,
   "metadata": {},
   "outputs": [],
   "source": []
  }
 ],
 "metadata": {
  "kernelspec": {
   "display_name": "Python 3",
   "language": "python",
   "name": "python3"
  },
  "language_info": {
   "codemirror_mode": {
    "name": "ipython",
    "version": 3
   },
   "file_extension": ".py",
   "mimetype": "text/x-python",
   "name": "python",
   "nbconvert_exporter": "python",
   "pygments_lexer": "ipython3",
   "version": "3.6.6"
  }
 },
 "nbformat": 4,
 "nbformat_minor": 2
}
