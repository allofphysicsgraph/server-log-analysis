{
 "cells": [
  {
   "cell_type": "code",
   "execution_count": null,
   "metadata": {},
   "outputs": [],
   "source": []
  },
  {
   "cell_type": "code",
   "execution_count": null,
   "metadata": {},
   "outputs": [],
   "source": []
  },
  {
   "cell_type": "markdown",
   "metadata": {},
   "source": [
    "data collected April 25, 2020 on a DigitalOcean droplet running Ubuntu 18.04"
   ]
  },
  {
   "cell_type": "code",
   "execution_count": 21,
   "metadata": {},
   "outputs": [
    {
     "name": "stdout",
     "output_type": "stream",
     "text": [
      "pandas 0.23.4\n",
      "3.6.6 | packaged by conda-forge | (default, Oct 12 2018, 14:08:43) \n",
      "[GCC 4.8.2 20140120 (Red Hat 4.8.2-15)]\n"
     ]
    }
   ],
   "source": [
    "import pandas\n",
    "print('pandas',pandas.__version__)\n",
    "import re\n",
    "import time\n",
    "from geoip import geolite2\n",
    "import sys\n",
    "print(sys.version)\n",
    "import matplotlib.pyplot as plt"
   ]
  },
  {
   "cell_type": "code",
   "execution_count": 3,
   "metadata": {},
   "outputs": [],
   "source": [
    "with open('gunicorn_error.log','r') as f:\n",
    "    lines = f.readlines()"
   ]
  },
  {
   "cell_type": "code",
   "execution_count": 7,
   "metadata": {},
   "outputs": [
    {
     "data": {
      "text/plain": [
       "['[2020-04-25 21:25:05 +0000] [1] [DEBUG] Current configuration:\\n',\n",
       " '  config: None\\n',\n",
       " \"  bind: ['0.0.0.0:5000']\\n\",\n",
       " '  backlog: 2048\\n',\n",
       " '  workers: 2\\n',\n",
       " '  worker_class: gthread\\n',\n",
       " '  threads: 4\\n',\n",
       " '  worker_connections: 1000\\n',\n",
       " '  max_requests: 0\\n',\n",
       " '  max_requests_jitter: 0\\n']"
      ]
     },
     "execution_count": 7,
     "metadata": {},
     "output_type": "execute_result"
    }
   ],
   "source": [
    "lines[0:10]"
   ]
  },
  {
   "cell_type": "code",
   "execution_count": 12,
   "metadata": {},
   "outputs": [],
   "source": [
    "valid_line = ''\n",
    "revised_list_of_lines = []\n",
    "for line in lines:\n",
    "    if line.startswith('[2020-'):\n",
    "        revised_list_of_lines.append(valid_line)\n",
    "        valid_line = line\n",
    "    else:\n",
    "        valid_line += line\n",
    "        \n",
    "revised_list_of_lines = revised_list_of_lines[1:]"
   ]
  },
  {
   "cell_type": "code",
   "execution_count": 18,
   "metadata": {},
   "outputs": [
    {
     "data": {
      "text/plain": [
       "['[2020-04-25 21:25:05 +0000] [1] [DEBUG] Arbiter booted\\n',\n",
       " '[2020-04-25 21:25:05 +0000] [1] [INFO] Listening at: http://0.0.0.0:5000 (1)\\n',\n",
       " '[2020-04-25 21:25:05 +0000] [1] [INFO] Using worker: gthread\\n']"
      ]
     },
     "execution_count": 18,
     "metadata": {},
     "output_type": "execute_result"
    }
   ],
   "source": [
    "revised_list_of_lines[2:5]"
   ]
  },
  {
   "cell_type": "code",
   "execution_count": 40,
   "metadata": {},
   "outputs": [],
   "source": [
    "list_of_dicts = []\n",
    "for line in revised_list_of_lines:\n",
    "    line_as_dict = {}\n",
    "    line_as_list = line.split(' ')\n",
    "    line_as_dict['date time'] = line_as_list[0] + ' ' + line_as_list[1]\n",
    "    line_as_dict['pid'] = line_as_list[3].replace('[','').replace(']','')\n",
    "    line_as_dict['msg type'] = line_as_list[4].replace('[','').replace(']','')\n",
    "    line_as_dict['msg'] = ' '.join(line_as_list[5:]).strip()\n",
    "    \n",
    "    list_of_dicts.append(line_as_dict)"
   ]
  },
  {
   "cell_type": "code",
   "execution_count": 41,
   "metadata": {},
   "outputs": [
    {
     "data": {
      "text/plain": [
       "(2673, 4)"
      ]
     },
     "execution_count": 41,
     "metadata": {},
     "output_type": "execute_result"
    }
   ],
   "source": [
    "df = pandas.DataFrame(list_of_dicts)\n",
    "df.shape"
   ]
  },
  {
   "cell_type": "code",
   "execution_count": 42,
   "metadata": {},
   "outputs": [],
   "source": [
    "# https://strftime.org/\n",
    "df['datetime'] = pandas.to_datetime(df['date time'], format='[%Y-%m-%d %H:%M:%S')\n",
    "# https://pandas.pydata.org/pandas-docs/stable/reference/api/pandas.DataFrame.drop.html\n",
    "df.drop('date time', inplace=True, axis=1)"
   ]
  },
  {
   "cell_type": "code",
   "execution_count": 45,
   "metadata": {},
   "outputs": [
    {
     "data": {
      "text/html": [
       "<div>\n",
       "<style scoped>\n",
       "    .dataframe tbody tr th:only-of-type {\n",
       "        vertical-align: middle;\n",
       "    }\n",
       "\n",
       "    .dataframe tbody tr th {\n",
       "        vertical-align: top;\n",
       "    }\n",
       "\n",
       "    .dataframe thead th {\n",
       "        text-align: right;\n",
       "    }\n",
       "</style>\n",
       "<table border=\"1\" class=\"dataframe\">\n",
       "  <thead>\n",
       "    <tr style=\"text-align: right;\">\n",
       "      <th></th>\n",
       "      <th>msg</th>\n",
       "      <th>msg type</th>\n",
       "      <th>pid</th>\n",
       "      <th>datetime</th>\n",
       "    </tr>\n",
       "  </thead>\n",
       "  <tbody>\n",
       "    <tr>\n",
       "      <th>0</th>\n",
       "      <td>Current configuration:\\n  config: None\\n  bind...</td>\n",
       "      <td>DEBUG</td>\n",
       "      <td>1</td>\n",
       "      <td>2020-04-25 21:25:05</td>\n",
       "    </tr>\n",
       "    <tr>\n",
       "      <th>1</th>\n",
       "      <td>Starting gunicorn 20.0.4</td>\n",
       "      <td>INFO</td>\n",
       "      <td>1</td>\n",
       "      <td>2020-04-25 21:25:05</td>\n",
       "    </tr>\n",
       "    <tr>\n",
       "      <th>2</th>\n",
       "      <td>Arbiter booted</td>\n",
       "      <td>DEBUG</td>\n",
       "      <td>1</td>\n",
       "      <td>2020-04-25 21:25:05</td>\n",
       "    </tr>\n",
       "    <tr>\n",
       "      <th>3</th>\n",
       "      <td>Listening at: http://0.0.0.0:5000 (1)</td>\n",
       "      <td>INFO</td>\n",
       "      <td>1</td>\n",
       "      <td>2020-04-25 21:25:05</td>\n",
       "    </tr>\n",
       "    <tr>\n",
       "      <th>4</th>\n",
       "      <td>Using worker: gthread</td>\n",
       "      <td>INFO</td>\n",
       "      <td>1</td>\n",
       "      <td>2020-04-25 21:25:05</td>\n",
       "    </tr>\n",
       "    <tr>\n",
       "      <th>5</th>\n",
       "      <td>Booting worker with pid: 8</td>\n",
       "      <td>INFO</td>\n",
       "      <td>8</td>\n",
       "      <td>2020-04-25 21:25:05</td>\n",
       "    </tr>\n",
       "    <tr>\n",
       "      <th>6</th>\n",
       "      <td>Booting worker with pid: 9</td>\n",
       "      <td>INFO</td>\n",
       "      <td>9</td>\n",
       "      <td>2020-04-25 21:25:05</td>\n",
       "    </tr>\n",
       "    <tr>\n",
       "      <th>7</th>\n",
       "      <td>2 workers\\nUnable to drop \"data\"; no such tabl...</td>\n",
       "      <td>DEBUG</td>\n",
       "      <td>1</td>\n",
       "      <td>2020-04-25 21:25:05</td>\n",
       "    </tr>\n",
       "    <tr>\n",
       "      <th>8</th>\n",
       "      <td>[trace]</td>\n",
       "      <td>INFO</td>\n",
       "      <td>8</td>\n",
       "      <td>2020-04-25 21:25:09</td>\n",
       "    </tr>\n",
       "    <tr>\n",
       "      <th>9</th>\n",
       "      <td>[trace]</td>\n",
       "      <td>INFO</td>\n",
       "      <td>8</td>\n",
       "      <td>2020-04-25 21:25:09</td>\n",
       "    </tr>\n",
       "  </tbody>\n",
       "</table>\n",
       "</div>"
      ],
      "text/plain": [
       "                                                 msg msg type pid  \\\n",
       "0  Current configuration:\\n  config: None\\n  bind...    DEBUG   1   \n",
       "1                           Starting gunicorn 20.0.4     INFO   1   \n",
       "2                                     Arbiter booted    DEBUG   1   \n",
       "3              Listening at: http://0.0.0.0:5000 (1)     INFO   1   \n",
       "4                              Using worker: gthread     INFO   1   \n",
       "5                         Booting worker with pid: 8     INFO   8   \n",
       "6                         Booting worker with pid: 9     INFO   9   \n",
       "7  2 workers\\nUnable to drop \"data\"; no such tabl...    DEBUG   1   \n",
       "8                                            [trace]     INFO   8   \n",
       "9                                            [trace]     INFO   8   \n",
       "\n",
       "             datetime  \n",
       "0 2020-04-25 21:25:05  \n",
       "1 2020-04-25 21:25:05  \n",
       "2 2020-04-25 21:25:05  \n",
       "3 2020-04-25 21:25:05  \n",
       "4 2020-04-25 21:25:05  \n",
       "5 2020-04-25 21:25:05  \n",
       "6 2020-04-25 21:25:05  \n",
       "7 2020-04-25 21:25:05  \n",
       "8 2020-04-25 21:25:09  \n",
       "9 2020-04-25 21:25:09  "
      ]
     },
     "execution_count": 45,
     "metadata": {},
     "output_type": "execute_result"
    }
   ],
   "source": [
    "df.head(10)"
   ]
  },
  {
   "cell_type": "code",
   "execution_count": 49,
   "metadata": {},
   "outputs": [
    {
     "data": {
      "text/plain": [
       "76"
      ]
     },
     "execution_count": 49,
     "metadata": {},
     "output_type": "execute_result"
    }
   ],
   "source": [
    "sum(df['msg']=='[trace]')"
   ]
  },
  {
   "cell_type": "code",
   "execution_count": 47,
   "metadata": {},
   "outputs": [
    {
     "data": {
      "text/plain": [
       "9    1431\n",
       "8    1228\n",
       "1      14\n",
       "Name: pid, dtype: int64"
      ]
     },
     "execution_count": 47,
     "metadata": {},
     "output_type": "execute_result"
    }
   ],
   "source": [
    "df['pid'].value_counts()"
   ]
  },
  {
   "cell_type": "code",
   "execution_count": 46,
   "metadata": {},
   "outputs": [
    {
     "data": {
      "text/plain": [
       "DEBUG    1675\n",
       "INFO      952\n",
       "ERROR      46\n",
       "Name: msg type, dtype: int64"
      ]
     },
     "execution_count": 46,
     "metadata": {},
     "output_type": "execute_result"
    }
   ],
   "source": [
    "df['msg type'].value_counts()"
   ]
  },
  {
   "cell_type": "code",
   "execution_count": 44,
   "metadata": {},
   "outputs": [
    {
     "data": {
      "text/plain": [
       "0       Current configuration:\\n  config: None\\n  bind...\n",
       "1                                Starting gunicorn 20.0.4\n",
       "2                                          Arbiter booted\n",
       "3                   Listening at: http://0.0.0.0:5000 (1)\n",
       "4                                   Using worker: gthread\n",
       "5                              Booting worker with pid: 8\n",
       "6                              Booting worker with pid: 9\n",
       "7       2 workers\\nUnable to drop \"data\"; no such tabl...\n",
       "8                                                 [trace]\n",
       "9                                                 [trace]\n",
       "10                                                [trace]\n",
       "11                                                [trace]\n",
       "12                                                [trace]\n",
       "13                                                [trace]\n",
       "14                                                [trace]\n",
       "15                                                [trace]\n",
       "16                                                [trace]\n",
       "17                                                [trace]\n",
       "18                                                [trace]\n",
       "19                                                [trace]\n",
       "20                                                [trace]\n",
       "21                                                [trace]\n",
       "22                                                [trace]\n",
       "23                                                [trace]\n",
       "24                                                [trace]\n",
       "25                                                [trace]\n",
       "26                                                [trace]\n",
       "27                                                [trace]\n",
       "28                                                  GET /\n",
       "29      <function before_request.<locals>.<lambda> at ...\n",
       "                              ...                        \n",
       "2643                                              [trace]\n",
       "2644                                  Closing connection.\n",
       "2645                             GET /TP/public/index.php\n",
       "2646    <function before_request.<locals>.<lambda> at ...\n",
       "2647                                  Closing connection.\n",
       "2648                                    GET /TP/index.php\n",
       "2649    <function before_request.<locals>.<lambda> at ...\n",
       "2650                                  Closing connection.\n",
       "2651                                    GET /cgi-bin/luci\n",
       "2652    <function before_request.<locals>.<lambda> at ...\n",
       "2653                                  Closing connection.\n",
       "2654            GET /dana-na/auth/url_default/welcome.cgi\n",
       "2655    <function before_request.<locals>.<lambda> at ...\n",
       "2656                                  Closing connection.\n",
       "2657                                    GET /remote/login\n",
       "2658    <function before_request.<locals>.<lambda> at ...\n",
       "2659                                  Closing connection.\n",
       "2660                                                GET /\n",
       "2661    <function before_request.<locals>.<lambda> at ...\n",
       "2662                                              [trace]\n",
       "2663                                  Closing connection.\n",
       "2664                                       GET /index.asp\n",
       "2665    <function before_request.<locals>.<lambda> at ...\n",
       "2666                                  Closing connection.\n",
       "2667                           GET /htmlV/welcomeMain.htm\n",
       "2668    <function before_request.<locals>.<lambda> at ...\n",
       "2669                                  Closing connection.\n",
       "2670                                                GET /\n",
       "2671    <function before_request.<locals>.<lambda> at ...\n",
       "2672                                              [trace]\n",
       "Name: msg, Length: 2673, dtype: object"
      ]
     },
     "execution_count": 44,
     "metadata": {},
     "output_type": "execute_result"
    }
   ],
   "source": [
    "df['msg']"
   ]
  },
  {
   "cell_type": "code",
   "execution_count": null,
   "metadata": {},
   "outputs": [],
   "source": []
  }
 ],
 "metadata": {
  "kernelspec": {
   "display_name": "Python 3",
   "language": "python",
   "name": "python3"
  },
  "language_info": {
   "codemirror_mode": {
    "name": "ipython",
    "version": 3
   },
   "file_extension": ".py",
   "mimetype": "text/x-python",
   "name": "python",
   "nbconvert_exporter": "python",
   "pygments_lexer": "ipython3",
   "version": "3.6.6"
  }
 },
 "nbformat": 4,
 "nbformat_minor": 2
}
