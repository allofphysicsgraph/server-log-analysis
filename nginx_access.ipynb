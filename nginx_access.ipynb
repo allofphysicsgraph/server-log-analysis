{
 "cells": [
  {
   "cell_type": "code",
   "execution_count": null,
   "metadata": {},
   "outputs": [],
   "source": []
  },
  {
   "cell_type": "markdown",
   "metadata": {},
   "source": [
    "data collected April 25, 2020 on a DigitalOcean droplet running Ubuntu 18.04"
   ]
  },
  {
   "cell_type": "raw",
   "metadata": {},
   "source": [
    "log_format custom '$remote_addr - $remote_user [$time_local] '\n",
    "                  '\"$request\" $status $body_bytes_sent '\n",
    "                  '\"$http_referer\" \"$http_user_agent\" \"$gzip_ratio\"';"
   ]
  },
  {
   "cell_type": "code",
   "execution_count": 1,
   "metadata": {},
   "outputs": [
    {
     "name": "stdout",
     "output_type": "stream",
     "text": [
      "Requirement already satisfied: python-geoip-geolite2 in /opt/conda/lib/python3.6/site-packages (2015.303)\n",
      "Requirement already satisfied: python-geoip in /opt/conda/lib/python3.6/site-packages (from python-geoip-geolite2) (1.2)\n",
      "Requirement already satisfied: python-geoip-python3 in /opt/conda/lib/python3.6/site-packages (1.3)\n"
     ]
    }
   ],
   "source": [
    "# the order of installation matters for these two :(\n",
    "!pip install python-geoip-geolite2\n",
    "!pip install python-geoip-python3"
   ]
  },
  {
   "cell_type": "code",
   "execution_count": 2,
   "metadata": {},
   "outputs": [
    {
     "name": "stdout",
     "output_type": "stream",
     "text": [
      "pandas 0.23.4\n",
      "3.6.6 | packaged by conda-forge | (default, Oct 12 2018, 14:08:43) \n",
      "[GCC 4.8.2 20140120 (Red Hat 4.8.2-15)]\n"
     ]
    }
   ],
   "source": [
    "import pandas\n",
    "print('pandas',pandas.__version__)\n",
    "import re\n",
    "import time\n",
    "from geoip import geolite2\n",
    "import sys\n",
    "print(sys.version)\n",
    "import matplotlib.pyplot as plt"
   ]
  },
  {
   "cell_type": "code",
   "execution_count": 3,
   "metadata": {},
   "outputs": [],
   "source": [
    "with open('nginx_access.log','r') as f:\n",
    "    lines = f.readlines()"
   ]
  },
  {
   "cell_type": "code",
   "execution_count": 4,
   "metadata": {},
   "outputs": [
    {
     "data": {
      "text/plain": [
       "['71.244.214.232 - - [25/Apr/2020:21:25:50 +0000] \"GET / HTTP/1.1\" 200 17635 \"-\" \"Mozilla/5.0 (Macintosh; Intel Mac OS X 10_15_4) AppleWebKit/537.36 (KHTML, like Gecko) Chrome/81.0.4044.113 Safari/537.36\" \"-\"\\n',\n",
       " '71.244.214.232 - - [25/Apr/2020:21:25:50 +0000] \"GET /static/sorttable.js HTTP/1.1\" 200 16877 \"http://167.172.250.37/\" \"Mozilla/5.0 (Macintosh; Intel Mac OS X 10_15_4) AppleWebKit/537.36 (KHTML, like Gecko) Chrome/81.0.4044.113 Safari/537.36\" \"-\"\\n',\n",
       " '71.244.214.232 - - [25/Apr/2020:21:25:51 +0000] \"GET /static/d3.min.js HTTP/1.1\" 200 247829 \"http://167.172.250.37/\" \"Mozilla/5.0 (Macintosh; Intel Mac OS X 10_15_4) AppleWebKit/537.36 (KHTML, like Gecko) Chrome/81.0.4044.113 Safari/537.36\" \"-\"\\n',\n",
       " '71.244.214.232 - - [25/Apr/2020:21:25:51 +0000] \"GET /static/single_step.png HTTP/1.1\" 200 14494 \"http://167.172.250.37/\" \"Mozilla/5.0 (Macintosh; Intel Mac OS X 10_15_4) AppleWebKit/537.36 (KHTML, like Gecko) Chrome/81.0.4044.113 Safari/537.36\" \"-\"\\n',\n",
       " '71.244.214.232 - - [25/Apr/2020:21:25:51 +0000] \"GET /static/884319.json HTTP/1.1\" 200 1619 \"http://167.172.250.37/\" \"Mozilla/5.0 (Macintosh; Intel Mac OS X 10_15_4) AppleWebKit/537.36 (KHTML, like Gecko) Chrome/81.0.4044.113 Safari/537.36\" \"-\"\\n']"
      ]
     },
     "execution_count": 4,
     "metadata": {},
     "output_type": "execute_result"
    }
   ],
   "source": [
    "lines[0:5]"
   ]
  },
  {
   "cell_type": "code",
   "execution_count": 5,
   "metadata": {},
   "outputs": [
    {
     "name": "stdout",
     "output_type": "stream",
     "text": [
      "request does not match expected format:\n",
      "42.231.98.143 - - [26/Apr/2020:01:26:00 +0000] \"sh+/tmp/gpon80&ipv=0\" 400 157 \"-\" \"-\" \"-\"\n",
      "\n",
      "request does not match expected format:\n",
      "66.240.205.34 - - [26/Apr/2020:10:10:32 +0000] \"H\\x00\\x00\\x00tj\\xA8\\x9E#D\\x98+\\xCA\\xF0\\xA7\\xBBl\\xC5\\x19\\xD7\\x8D\\xB6\\x18\\xEDJ\\x1En\\xC1\\xF9xu[l\\xF0E\\x1D-j\\xEC\\xD4xL\\xC9r\\xC9\\x15\\x10u\\xE0%\\x86Rtg\\x05fv\\x86]%\\xCC\\x80\\x0C\\xE8\\xCF\\xAE\\x00\\xB5\\xC0f\\xC8\\x8DD\\xC5\\x09\\xF4\" 400 157 \"-\" \"-\" \"-\"\n",
      "\n",
      "request does not match expected format:\n",
      "223.149.7.214 - - [26/Apr/2020:10:15:19 +0000] \"/tmp/gpon80&ipv=0\" 400 157 \"-\" \"-\" \"-\"\n",
      "\n"
     ]
    }
   ],
   "source": [
    "list_of_dicts = []\n",
    "for indx, line in enumerate(lines):\n",
    "    line_as_dict = {}\n",
    "    line_as_list = line.split(' ')\n",
    "    line_as_dict['remote ip'] = line_as_list[0]\n",
    "    line_as_dict['remote user'] = line_as_list[2]\n",
    "    line_as_dict['date time'] = line_as_list[3]\n",
    "    message = ' '.join(line_as_list[5:])\n",
    "    # https://stackoverflow.com/questions/16710076/python-split-a-string-respect-and-preserve-quotes\n",
    "    msg_as_list = re.findall(r'(?:[^\\s,\"]|\"(?:\\\\.|[^\"])*\")+', message)\n",
    "    if len(msg_as_list)!=6:\n",
    "        print(message)\n",
    "    request = msg_as_list[0]\n",
    "    request_as_list = request.split(' ')\n",
    "    if (len(request_as_list)!=3):\n",
    "        print('request does not match expected format:')\n",
    "        print(line)\n",
    "    else:\n",
    "        line_as_dict['request method'] = request_as_list[0].replace('\"','')\n",
    "        line_as_dict['request file'] = request_as_list[1]\n",
    "        line_as_dict['request proto'] = request_as_list[2].replace('\"','')\n",
    "    line_as_dict['status'] = msg_as_list[1]\n",
    "    line_as_dict['body bytes sent'] = msg_as_list[2]\n",
    "    line_as_dict['referrer'] = msg_as_list[3]\n",
    "    line_as_dict['user agent'] = msg_as_list[4]\n",
    "    line_as_dict['gzip ratio'] = msg_as_list[5]\n",
    "\n",
    "    list_of_dicts.append(line_as_dict)"
   ]
  },
  {
   "cell_type": "code",
   "execution_count": 6,
   "metadata": {},
   "outputs": [
    {
     "data": {
      "text/plain": [
       "(835, 11)"
      ]
     },
     "execution_count": 6,
     "metadata": {},
     "output_type": "execute_result"
    }
   ],
   "source": [
    "df = pandas.DataFrame(list_of_dicts)\n",
    "df.shape"
   ]
  },
  {
   "cell_type": "code",
   "execution_count": 7,
   "metadata": {},
   "outputs": [],
   "source": [
    "# https://strftime.org/\n",
    "df['datetime'] = pandas.to_datetime(df['date time'], format='[%d/%b/%Y:%H:%M:%S')\n",
    "# https://pandas.pydata.org/pandas-docs/stable/reference/api/pandas.DataFrame.drop.html\n",
    "df.drop('date time', inplace=True, axis=1)"
   ]
  },
  {
   "cell_type": "code",
   "execution_count": 8,
   "metadata": {},
   "outputs": [
    {
     "data": {
      "text/html": [
       "<div>\n",
       "<style scoped>\n",
       "    .dataframe tbody tr th:only-of-type {\n",
       "        vertical-align: middle;\n",
       "    }\n",
       "\n",
       "    .dataframe tbody tr th {\n",
       "        vertical-align: top;\n",
       "    }\n",
       "\n",
       "    .dataframe thead th {\n",
       "        text-align: right;\n",
       "    }\n",
       "</style>\n",
       "<table border=\"1\" class=\"dataframe\">\n",
       "  <thead>\n",
       "    <tr style=\"text-align: right;\">\n",
       "      <th></th>\n",
       "      <th>body bytes sent</th>\n",
       "      <th>gzip ratio</th>\n",
       "      <th>referrer</th>\n",
       "      <th>remote ip</th>\n",
       "      <th>remote user</th>\n",
       "      <th>request file</th>\n",
       "      <th>request method</th>\n",
       "      <th>request proto</th>\n",
       "      <th>status</th>\n",
       "      <th>user agent</th>\n",
       "      <th>datetime</th>\n",
       "    </tr>\n",
       "  </thead>\n",
       "  <tbody>\n",
       "    <tr>\n",
       "      <th>0</th>\n",
       "      <td>17635</td>\n",
       "      <td>\"-\"</td>\n",
       "      <td>\"-\"</td>\n",
       "      <td>71.244.214.232</td>\n",
       "      <td>-</td>\n",
       "      <td>/</td>\n",
       "      <td>GET</td>\n",
       "      <td>HTTP/1.1</td>\n",
       "      <td>200</td>\n",
       "      <td>\"Mozilla/5.0 (Macintosh; Intel Mac OS X 10_15_...</td>\n",
       "      <td>2020-04-25 21:25:50</td>\n",
       "    </tr>\n",
       "    <tr>\n",
       "      <th>1</th>\n",
       "      <td>16877</td>\n",
       "      <td>\"-\"</td>\n",
       "      <td>\"http://167.172.250.37/\"</td>\n",
       "      <td>71.244.214.232</td>\n",
       "      <td>-</td>\n",
       "      <td>/static/sorttable.js</td>\n",
       "      <td>GET</td>\n",
       "      <td>HTTP/1.1</td>\n",
       "      <td>200</td>\n",
       "      <td>\"Mozilla/5.0 (Macintosh; Intel Mac OS X 10_15_...</td>\n",
       "      <td>2020-04-25 21:25:50</td>\n",
       "    </tr>\n",
       "    <tr>\n",
       "      <th>2</th>\n",
       "      <td>247829</td>\n",
       "      <td>\"-\"</td>\n",
       "      <td>\"http://167.172.250.37/\"</td>\n",
       "      <td>71.244.214.232</td>\n",
       "      <td>-</td>\n",
       "      <td>/static/d3.min.js</td>\n",
       "      <td>GET</td>\n",
       "      <td>HTTP/1.1</td>\n",
       "      <td>200</td>\n",
       "      <td>\"Mozilla/5.0 (Macintosh; Intel Mac OS X 10_15_...</td>\n",
       "      <td>2020-04-25 21:25:51</td>\n",
       "    </tr>\n",
       "    <tr>\n",
       "      <th>3</th>\n",
       "      <td>14494</td>\n",
       "      <td>\"-\"</td>\n",
       "      <td>\"http://167.172.250.37/\"</td>\n",
       "      <td>71.244.214.232</td>\n",
       "      <td>-</td>\n",
       "      <td>/static/single_step.png</td>\n",
       "      <td>GET</td>\n",
       "      <td>HTTP/1.1</td>\n",
       "      <td>200</td>\n",
       "      <td>\"Mozilla/5.0 (Macintosh; Intel Mac OS X 10_15_...</td>\n",
       "      <td>2020-04-25 21:25:51</td>\n",
       "    </tr>\n",
       "    <tr>\n",
       "      <th>4</th>\n",
       "      <td>1619</td>\n",
       "      <td>\"-\"</td>\n",
       "      <td>\"http://167.172.250.37/\"</td>\n",
       "      <td>71.244.214.232</td>\n",
       "      <td>-</td>\n",
       "      <td>/static/884319.json</td>\n",
       "      <td>GET</td>\n",
       "      <td>HTTP/1.1</td>\n",
       "      <td>200</td>\n",
       "      <td>\"Mozilla/5.0 (Macintosh; Intel Mac OS X 10_15_...</td>\n",
       "      <td>2020-04-25 21:25:51</td>\n",
       "    </tr>\n",
       "  </tbody>\n",
       "</table>\n",
       "</div>"
      ],
      "text/plain": [
       "  body bytes sent gzip ratio                  referrer       remote ip  \\\n",
       "0           17635        \"-\"                       \"-\"  71.244.214.232   \n",
       "1           16877        \"-\"  \"http://167.172.250.37/\"  71.244.214.232   \n",
       "2          247829        \"-\"  \"http://167.172.250.37/\"  71.244.214.232   \n",
       "3           14494        \"-\"  \"http://167.172.250.37/\"  71.244.214.232   \n",
       "4            1619        \"-\"  \"http://167.172.250.37/\"  71.244.214.232   \n",
       "\n",
       "  remote user             request file request method request proto status  \\\n",
       "0           -                        /            GET      HTTP/1.1    200   \n",
       "1           -     /static/sorttable.js            GET      HTTP/1.1    200   \n",
       "2           -        /static/d3.min.js            GET      HTTP/1.1    200   \n",
       "3           -  /static/single_step.png            GET      HTTP/1.1    200   \n",
       "4           -      /static/884319.json            GET      HTTP/1.1    200   \n",
       "\n",
       "                                          user agent            datetime  \n",
       "0  \"Mozilla/5.0 (Macintosh; Intel Mac OS X 10_15_... 2020-04-25 21:25:50  \n",
       "1  \"Mozilla/5.0 (Macintosh; Intel Mac OS X 10_15_... 2020-04-25 21:25:50  \n",
       "2  \"Mozilla/5.0 (Macintosh; Intel Mac OS X 10_15_... 2020-04-25 21:25:51  \n",
       "3  \"Mozilla/5.0 (Macintosh; Intel Mac OS X 10_15_... 2020-04-25 21:25:51  \n",
       "4  \"Mozilla/5.0 (Macintosh; Intel Mac OS X 10_15_... 2020-04-25 21:25:51  "
      ]
     },
     "execution_count": 8,
     "metadata": {},
     "output_type": "execute_result"
    }
   ],
   "source": [
    "df.head()"
   ]
  },
  {
   "cell_type": "raw",
   "metadata": {},
   "source": [
    "geolite2.lookup('71.244.214.232')"
   ]
  },
  {
   "cell_type": "code",
   "execution_count": 9,
   "metadata": {},
   "outputs": [
    {
     "data": {
      "text/plain": [
       "35.197.133.35      312\n",
       "96.245.195.226     237\n",
       "162.129.252.228    143\n",
       "71.244.214.232      51\n",
       "36.90.214.103       36\n",
       "Name: remote ip, dtype: int64"
      ]
     },
     "execution_count": 9,
     "metadata": {},
     "output_type": "execute_result"
    }
   ],
   "source": [
    "df['remote ip'].value_counts().head()"
   ]
  },
  {
   "cell_type": "code",
   "execution_count": 10,
   "metadata": {},
   "outputs": [],
   "source": [
    "# download country code lookup table from https://dev.maxmind.com/geoip/legacy/codes/iso3166/\n",
    "# https://dev.maxmind.com/static/csv/codes/iso3166.csv\n",
    "    \n",
    "country_code_df = pandas.read_csv('iso3166.csv', header=None, names=['country code', 'name'])\n",
    "#country_code_df.shape    \n",
    "    \n",
    "def country_if_ip(ip):\n",
    "    if ip:\n",
    "        match = geolite2.lookup(ip)\n",
    "        if match:\n",
    "            return country_code_df[country_code_df['country code']==match.country]['name'].values[0]\n",
    "        else:\n",
    "            return None\n",
    "    else:\n",
    "        return None"
   ]
  },
  {
   "cell_type": "code",
   "execution_count": 11,
   "metadata": {},
   "outputs": [],
   "source": [
    "df['country'] = df['remote ip'].apply(country_if_ip)"
   ]
  },
  {
   "cell_type": "code",
   "execution_count": 19,
   "metadata": {},
   "outputs": [
    {
     "data": {
      "text/plain": [
       "United States    770\n",
       "Indonesia         36\n",
       "China              8\n",
       "Brazil             3\n",
       "Canada             2\n",
       "Name: country, dtype: int64"
      ]
     },
     "execution_count": 19,
     "metadata": {},
     "output_type": "execute_result"
    }
   ],
   "source": [
    "df['country'].value_counts().head()"
   ]
  },
  {
   "cell_type": "code",
   "execution_count": 12,
   "metadata": {},
   "outputs": [
    {
     "data": {
      "text/plain": [
       "HTTP/1.1    830\n",
       "HTTP/1.0      2\n",
       "Name: request proto, dtype: int64"
      ]
     },
     "execution_count": 12,
     "metadata": {},
     "output_type": "execute_result"
    }
   ],
   "source": [
    "df['request proto'].value_counts()"
   ]
  },
  {
   "cell_type": "code",
   "execution_count": 13,
   "metadata": {},
   "outputs": [
    {
     "data": {
      "text/plain": [
       "\"Mozilla/5.0 (X11; Linux x86_64; rv:68.0) Gecko/20100101 Firefox/68.0\"                                                                           237\n",
       "\"Mozilla/5.0 (iPhone; CPU iPhone OS 13_3_1 like Mac OS X) AppleWebKit/605.1.15 (KHTML, like Gecko) Version/13.0.5 Mobile/15E148 Safari/604.1\"    143\n",
       "\"Mozilla/5.0 (Windows NT 10.0; Win64; x64) AppleWebKit/537.36 (KHTML, like Gecko) Chrome/68.0.3440.106 Safari/537.36\"                            114\n",
       "\"Mozilla/4.0 (compatible; MSIE 7.0; Windows NT 6.0)\"                                                                                              92\n",
       "\"Mozilla/5.0 (X11; Ubuntu; Linux x86_64; rv:47.0) Gecko/20100101 Firefox/47.0\"                                                                    78\n",
       "\"Mozilla/5.0 (Macintosh; Intel Mac OS X 10_15_4) AppleWebKit/537.36 (KHTML, like Gecko) Chrome/81.0.4044.113 Safari/537.36\"                       51\n",
       "\"Mozilla/5.0 (Windows NT 10.0; Win64; x64) AppleWebKit/537.36 (KHTML, like Gecko) Chrome/79.0.3945.88 Safari/537.36\"                              36\n",
       "\"Mozilla/5.0 (Windows NT 10.0; Win64; x64; rv:57.0) Gecko/20100101 Firefox/57.0\"                                                                  27\n",
       "\"-\"                                                                                                                                               11\n",
       "\"Mozilla/5.0 (X11; Linux x86_64; rv:52.0) Gecko/20100101 Firefox/52.0\"                                                                             6\n",
       "\"Mozilla/5.0 (Windows NT 6.1; Win64; x64) AppleWebKit/537.36 (KHTML, like Gecko) Chrome/66.0.3359.139 Safari/537.36\"                               5\n",
       "\"Mozilla/5.0 (X11; Linux x86_64) AppleWebKit/537.36 (KHTML, like Gecko) Chrome/51.0.2704.84 Safari/537.36\"                                         4\n",
       "\"Mozilla/5.0 (Windows NT 10.0; WOW64) AppleWebKit/537.36 (KHTML, like Gecko) Chrome/52.0.2743.116 Safari/537.36\"                                   4\n",
       "\"Mozilla/5.0 (Windows NT 6.1; Win64; x64; rv:28.0) Gecko/20100101 Firefox/28.0\"                                                                    4\n",
       "\"Mozilla/5.0 (X11; Linux x86_64; rv:28.0) Gecko/20100101 Firefox/28.0\"                                                                             3\n",
       "\"Mozilla/5.0 (Windows NT 6.1; WOW64) AppleWebKit/537.36 (KHTML, like Gecko) Chrome/52.0.2743.116 Safari/537.36\"                                    3\n",
       "\"Mozilla/5.0 (Windows NT 6.1; WOW64; rv:57.0) Gecko/20100101 Firefox/57.0\"                                                                         3\n",
       "\"Mozilla/5.0 (Windows; U; Windows NT 6.0;en-US; rv:1.9.2) Gecko/20100115 Firefox/3.6)\"                                                             2\n",
       "\"Hello, World\"                                                                                                                                     2\n",
       "\"Mozilla/5.0 (Macintosh; Intel Mac OS X 10_11_6) AppleWebKit/601.7.7 (KHTML, like Gecko) Version/9.1.2 Safari/601.7.7\"                             2\n",
       "\"Mozilla/5.0 (Windows NT 10.0; WOW64) AppleWebKit/537.36 (KHTML, like Gecko) Chrome/51.0.2704.103 Safari/537.36\"                                   2\n",
       "\"Mozilla/5.0 (Windows NT 6.1) AppleWebKit/537.36 (KHTML, like Gecko) Chrome/66.0.3359.139 Safari/537.36\"                                           1\n",
       "\"Mozilla/4.0 (compatible; MSIE 8.0; Windows NT 6.0; Trident/4.0)\"                                                                                  1\n",
       "\"XTC\"                                                                                                                                              1\n",
       "\"Mozilla/5.0 (Windows NT 10.0; Win64; x64) AppleWebKit/537.36 (KHTML, like Gecko) Chrome/60.0.3112.113 Safari/537.36\"                              1\n",
       "\"Mozilla/5.0 zgrab/0.x\"                                                                                                                            1\n",
       "\"Mozilla/5.0\"                                                                                                                                      1\n",
       "Name: user agent, dtype: int64"
      ]
     },
     "execution_count": 13,
     "metadata": {},
     "output_type": "execute_result"
    }
   ],
   "source": [
    "df['user agent'].value_counts()"
   ]
  },
  {
   "cell_type": "code",
   "execution_count": 14,
   "metadata": {},
   "outputs": [
    {
     "data": {
      "text/plain": [
       "404    369\n",
       "200    304\n",
       "304    149\n",
       "400      9\n",
       "500      2\n",
       "302      2\n",
       "Name: status, dtype: int64"
      ]
     },
     "execution_count": 14,
     "metadata": {},
     "output_type": "execute_result"
    }
   ],
   "source": [
    "df['status'].value_counts()"
   ]
  },
  {
   "cell_type": "code",
   "execution_count": 15,
   "metadata": {},
   "outputs": [
    {
     "data": {
      "text/plain": [
       "GET        703\n",
       "POST       128\n",
       "CONNECT      1\n",
       "Name: request method, dtype: int64"
      ]
     },
     "execution_count": 15,
     "metadata": {},
     "output_type": "execute_result"
    }
   ],
   "source": [
    "df['request method'].value_counts()"
   ]
  },
  {
   "cell_type": "code",
   "execution_count": 16,
   "metadata": {},
   "outputs": [
    {
     "data": {
      "text/plain": [
       "/static/mathjax/tex-svg.js                                                                                                                                                                                                                                                                                                                                                                                                                                                                                                                                                                             40\n",
       "/static/sorttable.js                                                                                                                                                                                                                                                                                                                                                                                                                                                                                                                                                                                   40\n",
       "/                                                                                                                                                                                                                                                                                                                                                                                                                                                                                                                                                                                                      39\n",
       "/static/d3.min.js                                                                                                                                                                                                                                                                                                                                                                                                                                                                                                                                                                                      13\n",
       "/static/declareinitialexpr.png                                                                                                                                                                                                                                                                                                                                                                                                                                                                                                                                                                         12\n",
       "/editor                                                                                                                                                                                                                                                                                                                                                                                                                                                                                                                                                                                                12\n",
       "/static/declarefinalexpr.png                                                                                                                                                                                                                                                                                                                                                                                                                                                                                                                                                                           12\n",
       "/static/dividebothsidesby.png                                                                                                                                                                                                                                                                                                                                                                                                                                                                                                                                                                          12\n",
       "/static/multiplybothsidesby.png                                                                                                                                                                                                                                                                                                                                                                                                                                                                                                                                                                        11\n",
       "/static/884319.json                                                                                                                                                                                                                                                                                                                                                                                                                                                                                                                                                                                     8\n",
       "/static/9565166889.png                                                                                                                                                                                                                                                                                                                                                                                                                                                                                                                                                                                  8\n",
       "/static/single_step.png                                                                                                                                                                                                                                                                                                                                                                                                                                                                                                                                                                                 8\n",
       "/static/3131111133.png                                                                                                                                                                                                                                                                                                                                                                                                                                                                                                                                                                                  8\n",
       "/static/2131616531.png                                                                                                                                                                                                                                                                                                                                                                                                                                                                                                                                                                                  8\n",
       "/static/9040079362.png                                                                                                                                                                                                                                                                                                                                                                                                                                                                                                                                                                                  8\n",
       "/static/2113211456.png                                                                                                                                                                                                                                                                                                                                                                                                                                                                                                                                                                                  8\n",
       "/list_all_inference_rules                                                                                                                                                                                                                                                                                                                                                                                                                                                                                                                                                                               4\n",
       "/list_all_symbols                                                                                                                                                                                                                                                                                                                                                                                                                                                                                                                                                                                       4\n",
       "/review_derivation/000002/                                                                                                                                                                                                                                                                                                                                                                                                                                                                                                                                                                              3\n",
       "/htmlV/welcomeMain.htm                                                                                                                                                                                                                                                                                                                                                                                                                                                                                                                                                                                  3\n",
       "/cgi-bin/luci                                                                                                                                                                                                                                                                                                                                                                                                                                                                                                                                                                                           3\n",
       "/static/substituteRHSofexpr1intoexpr2.png                                                                                                                                                                                                                                                                                                                                                                                                                                                                                                                                                               3\n",
       "/static/all_derivation.png                                                                                                                                                                                                                                                                                                                                                                                                                                                                                                                                                                              3\n",
       "/index.asp                                                                                                                                                                                                                                                                                                                                                                                                                                                                                                                                                                                              3\n",
       "/login                                                                                                                                                                                                                                                                                                                                                                                                                                                                                                                                                                                                  3\n",
       "/list_all_expressions                                                                                                                                                                                                                                                                                                                                                                                                                                                                                                                                                                                   3\n",
       "/remote/login?lang=en                                                                                                                                                                                                                                                                                                                                                                                                                                                                                                                                                                                   3\n",
       "/dana-na/auth/url_default/welcome.cgi                                                                                                                                                                                                                                                                                                                                                                                                                                                                                                                                                                   3\n",
       "/static/addXtobothsides.png                                                                                                                                                                                                                                                                                                                                                                                                                                                                                                                                                                             2\n",
       "/test.php                                                                                                                                                                                                                                                                                                                                                                                                                                                                                                                                                                                               2\n",
       "                                                                                                                                                                                                                                                                                                                                                                                                                                                                                                                                                                                                       ..\n",
       "/98k.php                                                                                                                                                                                                                                                                                                                                                                                                                                                                                                                                                                                                1\n",
       "/shh.php                                                                                                                                                                                                                                                                                                                                                                                                                                                                                                                                                                                                1\n",
       "/static/replacescalarwithvector.png                                                                                                                                                                                                                                                                                                                                                                                                                                                                                                                                                                     1\n",
       "/pmamy/index.php                                                                                                                                                                                                                                                                                                                                                                                                                                                                                                                                                                                        1\n",
       "/static/4147472132.png                                                                                                                                                                                                                                                                                                                                                                                                                                                                                                                                                                                  1\n",
       "/dp.php                                                                                                                                                                                                                                                                                                                                                                                                                                                                                                                                                                                                 1\n",
       "/sane.php                                                                                                                                                                                                                                                                                                                                                                                                                                                                                                                                                                                               1\n",
       "//vendor/phpunit/phpunit/Util/PHP/eval-stdin.php                                                                                                                                                                                                                                                                                                                                                                                                                                                                                                                                                        1\n",
       "/bbv.php                                                                                                                                                                                                                                                                                                                                                                                                                                                                                                                                                                                                1\n",
       "/phpmyadmin2222/index.php                                                                                                                                                                                                                                                                                                                                                                                                                                                                                                                                                                               1\n",
       "/5678.php                                                                                                                                                                                                                                                                                                                                                                                                                                                                                                                                                                                               1\n",
       "/static/4827492911.png                                                                                                                                                                                                                                                                                                                                                                                                                                                                                                                                                                                  1\n",
       "/phppma/index.php                                                                                                                                                                                                                                                                                                                                                                                                                                                                                                                                                                                       1\n",
       "/shaAdmin/index.php                                                                                                                                                                                                                                                                                                                                                                                                                                                                                                                                                                                     1\n",
       "/static/000006.json                                                                                                                                                                                                                                                                                                                                                                                                                                                                                                                                                                                     1\n",
       "/phpMyAdmin/index.php                                                                                                                                                                                                                                                                                                                                                                                                                                                                                                                                                                                   1\n",
       "/xw1.php                                                                                                                                                                                                                                                                                                                                                                                                                                                                                                                                                                                                1\n",
       "/cgi-bin/php4?%2D%64+%61%6C%6C%6F%77%5F%75%72%6C%5F%69%6E%63%6C%75%64%65%3D%6F%6E+%2D%64+%73%61%66%65%5F%6D%6F%64%65%3D%6F%66%66+%2D%64+%73%75%68%6F%73%69%6E%2E%73%69%6D%75%6C%61%74%69%6F%6E%3D%6F%6E+%2D%64+%64%69%73%61%62%6C%65%5F%66%75%6E%63%74%69%6F%6E%73%3D%22%22+%2D%64+%6F%70%65%6E%5F%62%61%73%65%64%69%72%3D%6E%6F%6E%65+%2D%64+%61%75%74%6F%5F%70%72%65%70%65%6E%64%5F%66%69%6C%65%3D%70%68%70%3A%2F%2F%69%6E%70%75%74+%2D%64+%63%67%69%2E%66%6F%72%63%65%5F%72%65%64%69%72%65%63%74%3D%30+%2D%64+%63%67%69%2E%72%65%64%69%72%65%63%74%5F%73%74%61%74%75%73%5F%65%6E%76%3D%30+%2D%6E     1\n",
       "/7o.php                                                                                                                                                                                                                                                                                                                                                                                                                                                                                                                                                                                                 1\n",
       "/review_derivation/000018/                                                                                                                                                                                                                                                                                                                                                                                                                                                                                                                                                                              1\n",
       "/static/000002.png                                                                                                                                                                                                                                                                                                                                                                                                                                                                                                                                                                                      1\n",
       "/99.php                                                                                                                                                                                                                                                                                                                                                                                                                                                                                                                                                                                                 1\n",
       "/static/4648451961.png                                                                                                                                                                                                                                                                                                                                                                                                                                                                                                                                                                                  1\n",
       "/static/7875206161.png                                                                                                                                                                                                                                                                                                                                                                                                                                                                                                                                                                                  1\n",
       "/static/000001.png                                                                                                                                                                                                                                                                                                                                                                                                                                                                                                                                                                                      1\n",
       "/admin/phpmyadmin2/index.php                                                                                                                                                                                                                                                                                                                                                                                                                                                                                                                                                                            1\n",
       "/rrr.php                                                                                                                                                                                                                                                                                                                                                                                                                                                                                                                                                                                                1\n",
       "/static/4229092186.png                                                                                                                                                                                                                                                                                                                                                                                                                                                                                                                                                                                  1\n",
       "/pmd/index.php                                                                                                                                                                                                                                                                                                                                                                                                                                                                                                                                                                                          1\n",
       "/lol.php                                                                                                                                                                                                                                                                                                                                                                                                                                                                                                                                                                                                1\n",
       "Name: request file, Length: 553, dtype: int64"
      ]
     },
     "execution_count": 16,
     "metadata": {},
     "output_type": "execute_result"
    }
   ],
   "source": [
    "df['request file'].value_counts()"
   ]
  },
  {
   "cell_type": "code",
   "execution_count": null,
   "metadata": {},
   "outputs": [],
   "source": []
  }
 ],
 "metadata": {
  "kernelspec": {
   "display_name": "Python 3",
   "language": "python",
   "name": "python3"
  },
  "language_info": {
   "codemirror_mode": {
    "name": "ipython",
    "version": 3
   },
   "file_extension": ".py",
   "mimetype": "text/x-python",
   "name": "python",
   "nbconvert_exporter": "python",
   "pygments_lexer": "ipython3",
   "version": "3.6.6"
  }
 },
 "nbformat": 4,
 "nbformat_minor": 2
}
